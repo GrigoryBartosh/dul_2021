{
  "nbformat": 4,
  "nbformat_minor": 0,
  "metadata": {
    "colab": {
      "name": "Practice8_gandre.ipynb",
      "provenance": [],
      "collapsed_sections": [],
      "authorship_tag": "ABX9TyPsnwTi1CYd352l1T2qNMFI",
      "include_colab_link": true
    },
    "kernelspec": {
      "name": "python3",
      "display_name": "Python 3"
    },
    "language_info": {
      "name": "python"
    },
    "widgets": {
      "application/vnd.jupyter.widget-state+json": {
        "5f3a6de141824673825caa3fc13dbc60": {
          "model_module": "@jupyter-widgets/controls",
          "model_name": "HBoxModel",
          "model_module_version": "1.5.0",
          "state": {
            "_view_name": "HBoxView",
            "_dom_classes": [],
            "_model_name": "HBoxModel",
            "_view_module": "@jupyter-widgets/controls",
            "_model_module_version": "1.5.0",
            "_view_count": null,
            "_view_module_version": "1.5.0",
            "box_style": "",
            "layout": "IPY_MODEL_3f06571a58844b308f4f6fcecfe41a6b",
            "_model_module": "@jupyter-widgets/controls",
            "children": [
              "IPY_MODEL_4658ad8007d54317b2aaba8bdafa76fa",
              "IPY_MODEL_bfdcdb60802a45f783afa81695765f1a",
              "IPY_MODEL_8eff2eeba1ca4accbad6fd7665ca6f79"
            ]
          }
        },
        "3f06571a58844b308f4f6fcecfe41a6b": {
          "model_module": "@jupyter-widgets/base",
          "model_name": "LayoutModel",
          "model_module_version": "1.2.0",
          "state": {
            "_view_name": "LayoutView",
            "grid_template_rows": null,
            "right": null,
            "justify_content": null,
            "_view_module": "@jupyter-widgets/base",
            "overflow": null,
            "_model_module_version": "1.2.0",
            "_view_count": null,
            "flex_flow": null,
            "width": null,
            "min_width": null,
            "border": null,
            "align_items": null,
            "bottom": null,
            "_model_module": "@jupyter-widgets/base",
            "top": null,
            "grid_column": null,
            "overflow_y": null,
            "overflow_x": null,
            "grid_auto_flow": null,
            "grid_area": null,
            "grid_template_columns": null,
            "flex": null,
            "_model_name": "LayoutModel",
            "justify_items": null,
            "grid_row": null,
            "max_height": null,
            "align_content": null,
            "visibility": null,
            "align_self": null,
            "height": null,
            "min_height": null,
            "padding": null,
            "grid_auto_rows": null,
            "grid_gap": null,
            "max_width": null,
            "order": null,
            "_view_module_version": "1.2.0",
            "grid_template_areas": null,
            "object_position": null,
            "object_fit": null,
            "grid_auto_columns": null,
            "margin": null,
            "display": null,
            "left": null
          }
        },
        "4658ad8007d54317b2aaba8bdafa76fa": {
          "model_module": "@jupyter-widgets/controls",
          "model_name": "HTMLModel",
          "model_module_version": "1.5.0",
          "state": {
            "_view_name": "HTMLView",
            "style": "IPY_MODEL_72837206faed4427ac808e383ba1da1e",
            "_dom_classes": [],
            "description": "",
            "_model_name": "HTMLModel",
            "placeholder": "​",
            "_view_module": "@jupyter-widgets/controls",
            "_model_module_version": "1.5.0",
            "value": "100%",
            "_view_count": null,
            "_view_module_version": "1.5.0",
            "description_tooltip": null,
            "_model_module": "@jupyter-widgets/controls",
            "layout": "IPY_MODEL_e8f796a44ae5480b8a9ced13a6993b7c"
          }
        },
        "bfdcdb60802a45f783afa81695765f1a": {
          "model_module": "@jupyter-widgets/controls",
          "model_name": "FloatProgressModel",
          "model_module_version": "1.5.0",
          "state": {
            "_view_name": "ProgressView",
            "style": "IPY_MODEL_ebe59b71e973464d808e379c721a7409",
            "_dom_classes": [],
            "description": "",
            "_model_name": "FloatProgressModel",
            "bar_style": "success",
            "max": 1000,
            "_view_module": "@jupyter-widgets/controls",
            "_model_module_version": "1.5.0",
            "value": 1000,
            "_view_count": null,
            "_view_module_version": "1.5.0",
            "orientation": "horizontal",
            "min": 0,
            "description_tooltip": null,
            "_model_module": "@jupyter-widgets/controls",
            "layout": "IPY_MODEL_bbf66779a2c44be4b86e58ff772af291"
          }
        },
        "8eff2eeba1ca4accbad6fd7665ca6f79": {
          "model_module": "@jupyter-widgets/controls",
          "model_name": "HTMLModel",
          "model_module_version": "1.5.0",
          "state": {
            "_view_name": "HTMLView",
            "style": "IPY_MODEL_6257981229ed4049a32f20370fd87c1a",
            "_dom_classes": [],
            "description": "",
            "_model_name": "HTMLModel",
            "placeholder": "​",
            "_view_module": "@jupyter-widgets/controls",
            "_model_module_version": "1.5.0",
            "value": " 1000/1000 [00:44&lt;00:00, 11.78it/s]",
            "_view_count": null,
            "_view_module_version": "1.5.0",
            "description_tooltip": null,
            "_model_module": "@jupyter-widgets/controls",
            "layout": "IPY_MODEL_46fd3188f17449708c3f04eb6eaebc86"
          }
        },
        "72837206faed4427ac808e383ba1da1e": {
          "model_module": "@jupyter-widgets/controls",
          "model_name": "DescriptionStyleModel",
          "model_module_version": "1.5.0",
          "state": {
            "_view_name": "StyleView",
            "_model_name": "DescriptionStyleModel",
            "description_width": "",
            "_view_module": "@jupyter-widgets/base",
            "_model_module_version": "1.5.0",
            "_view_count": null,
            "_view_module_version": "1.2.0",
            "_model_module": "@jupyter-widgets/controls"
          }
        },
        "e8f796a44ae5480b8a9ced13a6993b7c": {
          "model_module": "@jupyter-widgets/base",
          "model_name": "LayoutModel",
          "model_module_version": "1.2.0",
          "state": {
            "_view_name": "LayoutView",
            "grid_template_rows": null,
            "right": null,
            "justify_content": null,
            "_view_module": "@jupyter-widgets/base",
            "overflow": null,
            "_model_module_version": "1.2.0",
            "_view_count": null,
            "flex_flow": null,
            "width": null,
            "min_width": null,
            "border": null,
            "align_items": null,
            "bottom": null,
            "_model_module": "@jupyter-widgets/base",
            "top": null,
            "grid_column": null,
            "overflow_y": null,
            "overflow_x": null,
            "grid_auto_flow": null,
            "grid_area": null,
            "grid_template_columns": null,
            "flex": null,
            "_model_name": "LayoutModel",
            "justify_items": null,
            "grid_row": null,
            "max_height": null,
            "align_content": null,
            "visibility": null,
            "align_self": null,
            "height": null,
            "min_height": null,
            "padding": null,
            "grid_auto_rows": null,
            "grid_gap": null,
            "max_width": null,
            "order": null,
            "_view_module_version": "1.2.0",
            "grid_template_areas": null,
            "object_position": null,
            "object_fit": null,
            "grid_auto_columns": null,
            "margin": null,
            "display": null,
            "left": null
          }
        },
        "ebe59b71e973464d808e379c721a7409": {
          "model_module": "@jupyter-widgets/controls",
          "model_name": "ProgressStyleModel",
          "model_module_version": "1.5.0",
          "state": {
            "_view_name": "StyleView",
            "_model_name": "ProgressStyleModel",
            "description_width": "",
            "_view_module": "@jupyter-widgets/base",
            "_model_module_version": "1.5.0",
            "_view_count": null,
            "_view_module_version": "1.2.0",
            "bar_color": null,
            "_model_module": "@jupyter-widgets/controls"
          }
        },
        "bbf66779a2c44be4b86e58ff772af291": {
          "model_module": "@jupyter-widgets/base",
          "model_name": "LayoutModel",
          "model_module_version": "1.2.0",
          "state": {
            "_view_name": "LayoutView",
            "grid_template_rows": null,
            "right": null,
            "justify_content": null,
            "_view_module": "@jupyter-widgets/base",
            "overflow": null,
            "_model_module_version": "1.2.0",
            "_view_count": null,
            "flex_flow": null,
            "width": null,
            "min_width": null,
            "border": null,
            "align_items": null,
            "bottom": null,
            "_model_module": "@jupyter-widgets/base",
            "top": null,
            "grid_column": null,
            "overflow_y": null,
            "overflow_x": null,
            "grid_auto_flow": null,
            "grid_area": null,
            "grid_template_columns": null,
            "flex": null,
            "_model_name": "LayoutModel",
            "justify_items": null,
            "grid_row": null,
            "max_height": null,
            "align_content": null,
            "visibility": null,
            "align_self": null,
            "height": null,
            "min_height": null,
            "padding": null,
            "grid_auto_rows": null,
            "grid_gap": null,
            "max_width": null,
            "order": null,
            "_view_module_version": "1.2.0",
            "grid_template_areas": null,
            "object_position": null,
            "object_fit": null,
            "grid_auto_columns": null,
            "margin": null,
            "display": null,
            "left": null
          }
        },
        "6257981229ed4049a32f20370fd87c1a": {
          "model_module": "@jupyter-widgets/controls",
          "model_name": "DescriptionStyleModel",
          "model_module_version": "1.5.0",
          "state": {
            "_view_name": "StyleView",
            "_model_name": "DescriptionStyleModel",
            "description_width": "",
            "_view_module": "@jupyter-widgets/base",
            "_model_module_version": "1.5.0",
            "_view_count": null,
            "_view_module_version": "1.2.0",
            "_model_module": "@jupyter-widgets/controls"
          }
        },
        "46fd3188f17449708c3f04eb6eaebc86": {
          "model_module": "@jupyter-widgets/base",
          "model_name": "LayoutModel",
          "model_module_version": "1.2.0",
          "state": {
            "_view_name": "LayoutView",
            "grid_template_rows": null,
            "right": null,
            "justify_content": null,
            "_view_module": "@jupyter-widgets/base",
            "overflow": null,
            "_model_module_version": "1.2.0",
            "_view_count": null,
            "flex_flow": null,
            "width": null,
            "min_width": null,
            "border": null,
            "align_items": null,
            "bottom": null,
            "_model_module": "@jupyter-widgets/base",
            "top": null,
            "grid_column": null,
            "overflow_y": null,
            "overflow_x": null,
            "grid_auto_flow": null,
            "grid_area": null,
            "grid_template_columns": null,
            "flex": null,
            "_model_name": "LayoutModel",
            "justify_items": null,
            "grid_row": null,
            "max_height": null,
            "align_content": null,
            "visibility": null,
            "align_self": null,
            "height": null,
            "min_height": null,
            "padding": null,
            "grid_auto_rows": null,
            "grid_gap": null,
            "max_width": null,
            "order": null,
            "_view_module_version": "1.2.0",
            "grid_template_areas": null,
            "object_position": null,
            "object_fit": null,
            "grid_auto_columns": null,
            "margin": null,
            "display": null,
            "left": null
          }
        },
        "7f675b42ccfe4365b15c0f6718c34cf2": {
          "model_module": "@jupyter-widgets/controls",
          "model_name": "HBoxModel",
          "model_module_version": "1.5.0",
          "state": {
            "_view_name": "HBoxView",
            "_dom_classes": [],
            "_model_name": "HBoxModel",
            "_view_module": "@jupyter-widgets/controls",
            "_model_module_version": "1.5.0",
            "_view_count": null,
            "_view_module_version": "1.5.0",
            "box_style": "",
            "layout": "IPY_MODEL_0e34da9b933943f699d7a819df59e858",
            "_model_module": "@jupyter-widgets/controls",
            "children": [
              "IPY_MODEL_8539ce43e2564fd68db4608d519c61f8",
              "IPY_MODEL_215556c134d44b8ebd0bcf0d01d35aeb",
              "IPY_MODEL_387008251b5d4d99b92549bedebcecf9"
            ]
          }
        },
        "0e34da9b933943f699d7a819df59e858": {
          "model_module": "@jupyter-widgets/base",
          "model_name": "LayoutModel",
          "model_module_version": "1.2.0",
          "state": {
            "_view_name": "LayoutView",
            "grid_template_rows": null,
            "right": null,
            "justify_content": null,
            "_view_module": "@jupyter-widgets/base",
            "overflow": null,
            "_model_module_version": "1.2.0",
            "_view_count": null,
            "flex_flow": null,
            "width": null,
            "min_width": null,
            "border": null,
            "align_items": null,
            "bottom": null,
            "_model_module": "@jupyter-widgets/base",
            "top": null,
            "grid_column": null,
            "overflow_y": null,
            "overflow_x": null,
            "grid_auto_flow": null,
            "grid_area": null,
            "grid_template_columns": null,
            "flex": null,
            "_model_name": "LayoutModel",
            "justify_items": null,
            "grid_row": null,
            "max_height": null,
            "align_content": null,
            "visibility": null,
            "align_self": null,
            "height": null,
            "min_height": null,
            "padding": null,
            "grid_auto_rows": null,
            "grid_gap": null,
            "max_width": null,
            "order": null,
            "_view_module_version": "1.2.0",
            "grid_template_areas": null,
            "object_position": null,
            "object_fit": null,
            "grid_auto_columns": null,
            "margin": null,
            "display": null,
            "left": null
          }
        },
        "8539ce43e2564fd68db4608d519c61f8": {
          "model_module": "@jupyter-widgets/controls",
          "model_name": "HTMLModel",
          "model_module_version": "1.5.0",
          "state": {
            "_view_name": "HTMLView",
            "style": "IPY_MODEL_96247c41fa7a40c080080040d4bd84ce",
            "_dom_classes": [],
            "description": "",
            "_model_name": "HTMLModel",
            "placeholder": "​",
            "_view_module": "@jupyter-widgets/controls",
            "_model_module_version": "1.5.0",
            "value": "100%",
            "_view_count": null,
            "_view_module_version": "1.5.0",
            "description_tooltip": null,
            "_model_module": "@jupyter-widgets/controls",
            "layout": "IPY_MODEL_8793053c0b9a419388998c158d61f05b"
          }
        },
        "215556c134d44b8ebd0bcf0d01d35aeb": {
          "model_module": "@jupyter-widgets/controls",
          "model_name": "FloatProgressModel",
          "model_module_version": "1.5.0",
          "state": {
            "_view_name": "ProgressView",
            "style": "IPY_MODEL_029b3b9046ca4292ba962f5a726e0bd6",
            "_dom_classes": [],
            "description": "",
            "_model_name": "FloatProgressModel",
            "bar_style": "success",
            "max": 1000,
            "_view_module": "@jupyter-widgets/controls",
            "_model_module_version": "1.5.0",
            "value": 1000,
            "_view_count": null,
            "_view_module_version": "1.5.0",
            "orientation": "horizontal",
            "min": 0,
            "description_tooltip": null,
            "_model_module": "@jupyter-widgets/controls",
            "layout": "IPY_MODEL_2b608277a41349c788c52a5ed17ed355"
          }
        },
        "387008251b5d4d99b92549bedebcecf9": {
          "model_module": "@jupyter-widgets/controls",
          "model_name": "HTMLModel",
          "model_module_version": "1.5.0",
          "state": {
            "_view_name": "HTMLView",
            "style": "IPY_MODEL_01c8941f748a4dcebd4018a9d1f464c8",
            "_dom_classes": [],
            "description": "",
            "_model_name": "HTMLModel",
            "placeholder": "​",
            "_view_module": "@jupyter-widgets/controls",
            "_model_module_version": "1.5.0",
            "value": " 1000/1000 [00:59&lt;00:00, 16.66it/s]",
            "_view_count": null,
            "_view_module_version": "1.5.0",
            "description_tooltip": null,
            "_model_module": "@jupyter-widgets/controls",
            "layout": "IPY_MODEL_d5facf53454540fca6a864bb1fa648f5"
          }
        },
        "96247c41fa7a40c080080040d4bd84ce": {
          "model_module": "@jupyter-widgets/controls",
          "model_name": "DescriptionStyleModel",
          "model_module_version": "1.5.0",
          "state": {
            "_view_name": "StyleView",
            "_model_name": "DescriptionStyleModel",
            "description_width": "",
            "_view_module": "@jupyter-widgets/base",
            "_model_module_version": "1.5.0",
            "_view_count": null,
            "_view_module_version": "1.2.0",
            "_model_module": "@jupyter-widgets/controls"
          }
        },
        "8793053c0b9a419388998c158d61f05b": {
          "model_module": "@jupyter-widgets/base",
          "model_name": "LayoutModel",
          "model_module_version": "1.2.0",
          "state": {
            "_view_name": "LayoutView",
            "grid_template_rows": null,
            "right": null,
            "justify_content": null,
            "_view_module": "@jupyter-widgets/base",
            "overflow": null,
            "_model_module_version": "1.2.0",
            "_view_count": null,
            "flex_flow": null,
            "width": null,
            "min_width": null,
            "border": null,
            "align_items": null,
            "bottom": null,
            "_model_module": "@jupyter-widgets/base",
            "top": null,
            "grid_column": null,
            "overflow_y": null,
            "overflow_x": null,
            "grid_auto_flow": null,
            "grid_area": null,
            "grid_template_columns": null,
            "flex": null,
            "_model_name": "LayoutModel",
            "justify_items": null,
            "grid_row": null,
            "max_height": null,
            "align_content": null,
            "visibility": null,
            "align_self": null,
            "height": null,
            "min_height": null,
            "padding": null,
            "grid_auto_rows": null,
            "grid_gap": null,
            "max_width": null,
            "order": null,
            "_view_module_version": "1.2.0",
            "grid_template_areas": null,
            "object_position": null,
            "object_fit": null,
            "grid_auto_columns": null,
            "margin": null,
            "display": null,
            "left": null
          }
        },
        "029b3b9046ca4292ba962f5a726e0bd6": {
          "model_module": "@jupyter-widgets/controls",
          "model_name": "ProgressStyleModel",
          "model_module_version": "1.5.0",
          "state": {
            "_view_name": "StyleView",
            "_model_name": "ProgressStyleModel",
            "description_width": "",
            "_view_module": "@jupyter-widgets/base",
            "_model_module_version": "1.5.0",
            "_view_count": null,
            "_view_module_version": "1.2.0",
            "bar_color": null,
            "_model_module": "@jupyter-widgets/controls"
          }
        },
        "2b608277a41349c788c52a5ed17ed355": {
          "model_module": "@jupyter-widgets/base",
          "model_name": "LayoutModel",
          "model_module_version": "1.2.0",
          "state": {
            "_view_name": "LayoutView",
            "grid_template_rows": null,
            "right": null,
            "justify_content": null,
            "_view_module": "@jupyter-widgets/base",
            "overflow": null,
            "_model_module_version": "1.2.0",
            "_view_count": null,
            "flex_flow": null,
            "width": null,
            "min_width": null,
            "border": null,
            "align_items": null,
            "bottom": null,
            "_model_module": "@jupyter-widgets/base",
            "top": null,
            "grid_column": null,
            "overflow_y": null,
            "overflow_x": null,
            "grid_auto_flow": null,
            "grid_area": null,
            "grid_template_columns": null,
            "flex": null,
            "_model_name": "LayoutModel",
            "justify_items": null,
            "grid_row": null,
            "max_height": null,
            "align_content": null,
            "visibility": null,
            "align_self": null,
            "height": null,
            "min_height": null,
            "padding": null,
            "grid_auto_rows": null,
            "grid_gap": null,
            "max_width": null,
            "order": null,
            "_view_module_version": "1.2.0",
            "grid_template_areas": null,
            "object_position": null,
            "object_fit": null,
            "grid_auto_columns": null,
            "margin": null,
            "display": null,
            "left": null
          }
        },
        "01c8941f748a4dcebd4018a9d1f464c8": {
          "model_module": "@jupyter-widgets/controls",
          "model_name": "DescriptionStyleModel",
          "model_module_version": "1.5.0",
          "state": {
            "_view_name": "StyleView",
            "_model_name": "DescriptionStyleModel",
            "description_width": "",
            "_view_module": "@jupyter-widgets/base",
            "_model_module_version": "1.5.0",
            "_view_count": null,
            "_view_module_version": "1.2.0",
            "_model_module": "@jupyter-widgets/controls"
          }
        },
        "d5facf53454540fca6a864bb1fa648f5": {
          "model_module": "@jupyter-widgets/base",
          "model_name": "LayoutModel",
          "model_module_version": "1.2.0",
          "state": {
            "_view_name": "LayoutView",
            "grid_template_rows": null,
            "right": null,
            "justify_content": null,
            "_view_module": "@jupyter-widgets/base",
            "overflow": null,
            "_model_module_version": "1.2.0",
            "_view_count": null,
            "flex_flow": null,
            "width": null,
            "min_width": null,
            "border": null,
            "align_items": null,
            "bottom": null,
            "_model_module": "@jupyter-widgets/base",
            "top": null,
            "grid_column": null,
            "overflow_y": null,
            "overflow_x": null,
            "grid_auto_flow": null,
            "grid_area": null,
            "grid_template_columns": null,
            "flex": null,
            "_model_name": "LayoutModel",
            "justify_items": null,
            "grid_row": null,
            "max_height": null,
            "align_content": null,
            "visibility": null,
            "align_self": null,
            "height": null,
            "min_height": null,
            "padding": null,
            "grid_auto_rows": null,
            "grid_gap": null,
            "max_width": null,
            "order": null,
            "_view_module_version": "1.2.0",
            "grid_template_areas": null,
            "object_position": null,
            "object_fit": null,
            "grid_auto_columns": null,
            "margin": null,
            "display": null,
            "left": null
          }
        }
      }
    }
  },
  "cells": [
    {
      "cell_type": "markdown",
      "metadata": {
        "id": "view-in-github",
        "colab_type": "text"
      },
      "source": [
        "<a href=\"https://colab.research.google.com/github/GrigoryBartosh/dul_2021/blob/main/Practice/pr8/Practice8_dre.ipynb\" target=\"_parent\"><img src=\"https://colab.research.google.com/assets/colab-badge.svg\" alt=\"Open In Colab\"/></a>"
      ]
    },
    {
      "cell_type": "code",
      "metadata": {
        "id": "tx1d9F33IF8c"
      },
      "source": [
        "import numpy as np\n",
        "import matplotlib.pyplot as plt\n",
        "import IPython\n",
        "import torch\n",
        "import torch.nn as nn\n",
        "import torch.nn.functional as F\n",
        "import torch.utils.data as data\n",
        "import torch.optim as opt\n",
        "from torch.distributions.uniform import Uniform\n",
        "from torch.distributions.normal import Normal\n",
        "from torch.distributions.beta import Beta\n",
        "\n",
        "import copy\n",
        "\n",
        "from scipy.stats import norm\n",
        "from scipy.optimize import bisect\n",
        "from tqdm.notebook import tqdm"
      ],
      "execution_count": null,
      "outputs": []
    },
    {
      "cell_type": "code",
      "metadata": {
        "id": "OAOWaD8Bjq-k"
      },
      "source": [
        "device = torch.device(\"cuda\" if torch.cuda.is_available() else \"cpu\")"
      ],
      "execution_count": null,
      "outputs": []
    },
    {
      "cell_type": "code",
      "source": [
        ""
      ],
      "metadata": {
        "id": "_Dpswhnhztam"
      },
      "execution_count": null,
      "outputs": []
    },
    {
      "cell_type": "markdown",
      "source": [
        "# utils"
      ],
      "metadata": {
        "id": "_NwplaRdAK8u"
      }
    },
    {
      "cell_type": "code",
      "source": [
        "def generate_data(n):\n",
        "    gaussian1 = np.random.normal(loc=-0.5, scale=0.25, size=(n,))\n",
        "    gaussian2 = np.random.normal(loc=0.5, scale=1, size=(n,))\n",
        "    return gaussian1, gaussian2"
      ],
      "metadata": {
        "id": "PrCORcKRztXq"
      },
      "execution_count": null,
      "outputs": []
    },
    {
      "cell_type": "code",
      "source": [
        "def plot_data():\n",
        "    plt.figure()\n",
        "    x = np.linspace(-3, 3, num=100)\n",
        "    density_nu = norm.pdf(x, loc=-0.5, scale=0.25)\n",
        "    density_de = norm.pdf(x, loc=0.5, scale=1)\n",
        "    plt.figure()\n",
        "    plt.plot(x, density_nu, label='numerator')\n",
        "    plt.plot(x, density_de, label='denumenator')\n",
        "    plt.legend()\n",
        "    plt.show()"
      ],
      "metadata": {
        "id": "CawyR567AOsG"
      },
      "execution_count": null,
      "outputs": []
    },
    {
      "cell_type": "code",
      "source": [
        ""
      ],
      "metadata": {
        "id": "JmFlbdjd28gw"
      },
      "execution_count": null,
      "outputs": []
    },
    {
      "cell_type": "code",
      "source": [
        "data_nu, data_de = generate_data(5000)\n",
        "plot_data()"
      ],
      "metadata": {
        "colab": {
          "base_uri": "https://localhost:8080/",
          "height": 282
        },
        "id": "07hzT2JG2Lvv",
        "outputId": "303516fe-a460-438f-e3fd-649e6fbb9d29"
      },
      "execution_count": null,
      "outputs": [
        {
          "output_type": "display_data",
          "data": {
            "text/plain": [
              "<Figure size 432x288 with 0 Axes>"
            ]
          },
          "metadata": {}
        },
        {
          "output_type": "display_data",
          "data": {
            "image/png": "[encoded data removed]",
            "text/plain": [
              "<Figure size 432x288 with 1 Axes>"
            ]
          },
          "metadata": {
            "needs_background": "light"
          }
        }
      ]
    },
    {
      "cell_type": "code",
      "source": [
        "def plot_dre(model, title=\"\"):\n",
        "    with torch.no_grad():\n",
        "        plt.figure()\n",
        "        x = np.linspace(-2., 2, num=100)\n",
        "        density_nu = norm.pdf(x, loc=-0.5, scale=0.25)\n",
        "        density_de = norm.pdf(x, loc=0.5, scale=1)\n",
        "        \n",
        "        ratio_pred = model.r(torch.FloatTensor(x.reshape(-1, 1))).cpu().numpy()\n",
        "\n",
        "        plt.figure()\n",
        "        \n",
        "        plt.plot(x, ratio_pred, label='pred ratio')\n",
        "        plt.plot(x, density_nu / density_de, label='true ratio')\n",
        "        \n",
        "        plt.legend()\n",
        "        plt.title(title)\n",
        "        plt.show()"
      ],
      "metadata": {
        "id": "eRMrxv4gCeSs"
      },
      "execution_count": null,
      "outputs": []
    },
    {
      "cell_type": "markdown",
      "source": [
        "# Notations"
      ],
      "metadata": {
        "id": "qVJczmRO1Y-D"
      }
    },
    {
      "cell_type": "markdown",
      "source": [
        "\n",
        "\n",
        "*   $p_{nu}(x)$ - pdf of numerator\n",
        "*   $p_{de}(x)$ - pdf of denominator\n",
        "*   $r(x)=\\frac{p_{nu}(x)}{p_{de}(x)}$ - density ratio\n",
        "*   $p_{nu}^*, p_{du}^*, r^*$ - estimatinos of respective functions\n",
        "*   $\\{x^{nu}_i\\}_{i=1}^{n_{nu}}$ - sample from numerator distribution\n",
        "*   $\\{x^{de}_i\\}_{i=1}^{n_{de}}$ - sample from denominator distribution\n",
        "\n",
        "\n"
      ],
      "metadata": {
        "id": "vB2lUiNW1oYL"
      }
    },
    {
      "cell_type": "markdown",
      "source": [
        "# Moment matching"
      ],
      "metadata": {
        "id": "0joe3ss0AbZE"
      }
    },
    {
      "cell_type": "markdown",
      "source": [
        "\n",
        "*   $r(x)p_{de}(x) = p_{nu}(x)$\n",
        "*   $argmin ||E_{p_{de}}r^*(x)f(x) - E_{p_{nu}}f(x)||^2$\n",
        "*   $argmin ||E_{p_{de}}r^*(x)K(\\cdot, x) - E_{p_{nu}}K(\\cdot, x)||$\n"
      ],
      "metadata": {
        "id": "R3MxWzMG3eaS"
      }
    },
    {
      "cell_type": "code",
      "source": [
        "class MeanMatchDRE(nn.Module):\n",
        "    def __init__(self, hd=128):\n",
        "        super().__init__()\n",
        "        self.r = nn.Sequential(nn.Linear(1, hd), \n",
        "                               nn.ReLU(),\n",
        "                               nn.Linear(hd, hd), \n",
        "                               nn.ReLU(),\n",
        "                               nn.Linear(hd, 1),\n",
        "                               nn.Softplus())\n",
        "    \n",
        "    def fit(self, data_nu, data_de, batch_size=512, lr=1e-3, num_epochs=1000):\n",
        "     \n",
        "        loader_nu = data.DataLoader(data_nu, \n",
        "                                    batch_size=batch_size, \n",
        "                                    shuffle=True)\n",
        "        \n",
        "        loader_de = data.DataLoader(data_de, \n",
        "                                    batch_size=batch_size, \n",
        "                                    shuffle=True)\n",
        "        \n",
        "\n",
        "        optim = opt.Adam(self.r.parameters(), lr=lr)\n",
        "\n",
        "\n",
        "        for epoch in tqdm(range(num_epochs)):\n",
        "            for (batch_nu, batch_de) in zip(loader_nu, loader_de):\n",
        "                batch_nu = batch_nu.view(-1, 1).float()\n",
        "                batch_de = batch_de.view(-1, 1).float()\n",
        "\n",
        "                loss = ((self.r(batch_de) * batch_de).mean() - batch_nu.mean()) ** 2\n",
        "\n",
        "                optim.zero_grad()\n",
        "                loss.backward()\n",
        "                optim.step()"
      ],
      "metadata": {
        "id": "T0NwaPUOSGhd"
      },
      "execution_count": null,
      "outputs": []
    },
    {
      "cell_type": "code",
      "source": [
        "model1 = MeanMatchDRE()\n",
        "model1.fit(data_nu, data_de)"
      ],
      "metadata": {
        "id": "bBzJpoeB5KOz",
        "colab": {
          "base_uri": "https://localhost:8080/",
          "height": 49,
          "referenced_widgets": [
            "5f3a6de141824673825caa3fc13dbc60",
            "3f06571a58844b308f4f6fcecfe41a6b",
            "4658ad8007d54317b2aaba8bdafa76fa",
            "bfdcdb60802a45f783afa81695765f1a",
            "8eff2eeba1ca4accbad6fd7665ca6f79",
            "72837206faed4427ac808e383ba1da1e",
            "e8f796a44ae5480b8a9ced13a6993b7c",
            "ebe59b71e973464d808e379c721a7409",
            "bbf66779a2c44be4b86e58ff772af291",
            "6257981229ed4049a32f20370fd87c1a",
            "46fd3188f17449708c3f04eb6eaebc86"
          ]
        },
        "outputId": "fbda145d-786e-4ec6-c14b-7a386814c42e"
      },
      "execution_count": null,
      "outputs": [
        {
          "output_type": "display_data",
          "data": {
            "application/vnd.jupyter.widget-view+json": {
              "model_id": "5f3a6de141824673825caa3fc13dbc60",
              "version_minor": 0,
              "version_major": 2
            },
            "text/plain": [
              "  0%|          | 0/1000 [00:00<?, ?it/s]"
            ]
          },
          "metadata": {}
        }
      ]
    },
    {
      "cell_type": "code",
      "source": [
        "plot_dre(model1)"
      ],
      "metadata": {
        "id": "pCixQKSs8IcQ",
        "colab": {
          "base_uri": "https://localhost:8080/",
          "height": 282
        },
        "outputId": "cdab1e8d-f719-4336-d2e5-e9d7ba383ed6"
      },
      "execution_count": null,
      "outputs": [
        {
          "output_type": "display_data",
          "data": {
            "text/plain": [
              "<Figure size 432x288 with 0 Axes>"
            ]
          },
          "metadata": {}
        },
        {
          "output_type": "display_data",
          "data": {
            "image/png": "[encoded data removed]",
            "text/plain": [
              "<Figure size 432x288 with 1 Axes>"
            ]
          },
          "metadata": {
            "needs_background": "light"
          }
        }
      ]
    },
    {
      "cell_type": "code",
      "source": [
        "class MomentMatchDRE(nn.Module):\n",
        "    def __init__(self, hd=128, k=1):\n",
        "        super().__init__()\n",
        "        self.r = nn.Sequential(nn.Linear(1, hd), \n",
        "                               nn.ReLU(),\n",
        "                               nn.Linear(hd, hd), \n",
        "                               nn.ReLU(),\n",
        "                               nn.Linear(hd, 1),\n",
        "                               nn.Softplus())\n",
        "        \n",
        "        self.k = k\n",
        "    \n",
        "    def fit(self, data_nu, data_de, batch_size=512, lr=1e-3, num_epochs=1000):\n",
        "     \n",
        "        loader_nu = data.DataLoader(data_nu, \n",
        "                                    batch_size=batch_size, \n",
        "                                    shuffle=True)\n",
        "        \n",
        "        loader_de = data.DataLoader(data_de, \n",
        "                                    batch_size=batch_size, \n",
        "                                    shuffle=True)\n",
        "        \n",
        "\n",
        "        optim = opt.Adam(self.r.parameters(), lr=lr)\n",
        "\n",
        "\n",
        "        for epoch in tqdm(range(num_epochs)):\n",
        "            for (batch_nu, batch_de) in zip(loader_nu, loader_de):\n",
        "                batch_nu = batch_nu.view(-1, 1).float()\n",
        "                batch_de = batch_de.view(-1, 1).float()\n",
        "\n",
        "                moment_de = 1\n",
        "                moment_nu = 1\n",
        "                loss = 0\n",
        "                r_de = self.r(batch_de)\n",
        "\n",
        "                for i in range(1, self.k + 1):\n",
        "                    \n",
        "                    loss += ((r_de * (batch_de) ** i).mean() - (batch_nu ** i).mean()) ** 2\n",
        "\n",
        "                optim.zero_grad()\n",
        "                loss.backward()\n",
        "                optim.step()"
      ],
      "metadata": {
        "id": "QPS3aUF27qkP"
      },
      "execution_count": null,
      "outputs": []
    },
    {
      "cell_type": "code",
      "source": [
        "models = []\n",
        "for i in range(8):\n",
        "    model = MomentMatchDRE(k = i + 1)\n",
        "    model.fit(data_nu, data_de)\n",
        "    models.append(model)"
      ],
      "metadata": {
        "id": "z99au4pgDyxj"
      },
      "execution_count": null,
      "outputs": []
    },
    {
      "cell_type": "code",
      "source": [
        "for i in range(8):\n",
        "    plot_dre(models[i], f'#moments={i+1}')"
      ],
      "metadata": {
        "id": "zncVchls-WBp",
        "colab": {
          "base_uri": "https://localhost:8080/",
          "height": 1000
        },
        "outputId": "1d62b99e-1c6c-4252-e5aa-06e8f7cfd496"
      },
      "execution_count": null,
      "outputs": [
        {
          "output_type": "display_data",
          "data": {
            "text/plain": [
              "<Figure size 432x288 with 0 Axes>"
            ]
          },
          "metadata": {}
        },
        {
          "output_type": "display_data",
          "data": {
            "image/png": "[encoded data removed]",
            "text/plain": [
              "<Figure size 432x288 with 1 Axes>"
            ]
          },
          "metadata": {
            "needs_background": "light"
          }
        },
        {
          "output_type": "display_data",
          "data": {
            "text/plain": [
              "<Figure size 432x288 with 0 Axes>"
            ]
          },
          "metadata": {}
        },
        {
          "output_type": "display_data",
          "data": {
            "image/png": "[encoded data removed]",
            "text/plain": [
              "<Figure size 432x288 with 1 Axes>"
            ]
          },
          "metadata": {
            "needs_background": "light"
          }
        },
        {
          "output_type": "display_data",
          "data": {
            "text/plain": [
              "<Figure size 432x288 with 0 Axes>"
            ]
          },
          "metadata": {}
        },
        {
          "output_type": "display_data",
          "data": {
            "image/png": "[encoded data removed]",
            "text/plain": [
              "<Figure size 432x288 with 1 Axes>"
            ]
          },
          "metadata": {
            "needs_background": "light"
          }
        },
        {
          "output_type": "display_data",
          "data": {
            "text/plain": [
              "<Figure size 432x288 with 0 Axes>"
            ]
          },
          "metadata": {}
        },
        {
          "output_type": "display_data",
          "data": {
            "image/png": "[encoded data removed]",
            "text/plain": [
              "<Figure size 432x288 with 1 Axes>"
            ]
          },
          "metadata": {
            "needs_background": "light"
          }
        },
        {
          "output_type": "display_data",
          "data": {
            "text/plain": [
              "<Figure size 432x288 with 0 Axes>"
            ]
          },
          "metadata": {}
        },
        {
          "output_type": "display_data",
          "data": {
            "image/png": "[encoded data removed]",
            "text/plain": [
              "<Figure size 432x288 with 1 Axes>"
            ]
          },
          "metadata": {
            "needs_background": "light"
          }
        },
        {
          "output_type": "display_data",
          "data": {
            "text/plain": [
              "<Figure size 432x288 with 0 Axes>"
            ]
          },
          "metadata": {}
        },
        {
          "output_type": "display_data",
          "data": {
            "image/png": "[encoded data removed]",
            "text/plain": [
              "<Figure size 432x288 with 1 Axes>"
            ]
          },
          "metadata": {
            "needs_background": "light"
          }
        },
        {
          "output_type": "display_data",
          "data": {
            "text/plain": [
              "<Figure size 432x288 with 0 Axes>"
            ]
          },
          "metadata": {}
        },
        {
          "output_type": "display_data",
          "data": {
            "image/png": "[encoded data removed]",
            "text/plain": [
              "<Figure size 432x288 with 1 Axes>"
            ]
          },
          "metadata": {
            "needs_background": "light"
          }
        },
        {
          "output_type": "display_data",
          "data": {
            "text/plain": [
              "<Figure size 432x288 with 0 Axes>"
            ]
          },
          "metadata": {}
        },
        {
          "output_type": "display_data",
          "data": {
            "image/png": "[encoded data removed]",
            "text/plain": [
              "<Figure size 432x288 with 1 Axes>"
            ]
          },
          "metadata": {
            "needs_background": "light"
          }
        }
      ]
    },
    {
      "cell_type": "code",
      "source": [
        "# dre with kmm"
      ],
      "metadata": {
        "colab": {
          "base_uri": "https://localhost:8080/",
          "height": 282
        },
        "id": "4uSiYdu--V5G",
        "outputId": "b2ff12b4-ae92-4bca-9838-d331edefeecc"
      },
      "execution_count": null,
      "outputs": [
        {
          "output_type": "display_data",
          "data": {
            "text/plain": [
              "<Figure size 432x288 with 0 Axes>"
            ]
          },
          "metadata": {}
        },
        {
          "output_type": "display_data",
          "data": {
            "image/png": "[encoded data removed]",
            "text/plain": [
              "<Figure size 432x288 with 1 Axes>"
            ]
          },
          "metadata": {
            "needs_background": "light"
          }
        }
      ]
    },
    {
      "cell_type": "code",
      "source": [
        ""
      ],
      "metadata": {
        "id": "WrNfobSA65Fs"
      },
      "execution_count": null,
      "outputs": []
    },
    {
      "cell_type": "code",
      "source": [
        ""
      ],
      "metadata": {
        "id": "_olk38s_65Cn"
      },
      "execution_count": null,
      "outputs": []
    },
    {
      "cell_type": "code",
      "source": [
        ""
      ],
      "metadata": {
        "id": "-VWlpCOb3vTL"
      },
      "execution_count": null,
      "outputs": []
    },
    {
      "cell_type": "markdown",
      "source": [
        "# Probability Classifaction"
      ],
      "metadata": {
        "id": "9kvQRKJa33N5"
      }
    },
    {
      "cell_type": "markdown",
      "source": [
        "\n",
        "\n",
        "*   numerator: $y=1$ \n",
        "*   denominator: $y=0$\n",
        "* $p_{nu}(x) = p(x| y=1)$\n",
        "* $p_{de}(x) = p(x| y=0)$\n",
        "* $d(x) \\sim p(y=1|x)$\n",
        "* $r(x) = \\frac{p(y=1)}{p(y=0)}\\frac{p(y=1|x)}{p(y=0|x)}$\n",
        "\n"
      ],
      "metadata": {
        "id": "s7SELpie5oAZ"
      }
    },
    {
      "cell_type": "code",
      "source": [
        "class ProbClassDRE(nn.Module):\n",
        "    def __init__(self, hd=128):\n",
        "        super().__init__()\n",
        "        self.f = nn.Sequential(nn.Linear(1, hd), \n",
        "                               nn.ReLU(),\n",
        "                               nn.Linear(hd, hd), \n",
        "                               nn.ReLU(),\n",
        "                               nn.Linear(hd, 1),\n",
        "                               nn.Sigmoid())\n",
        "    \n",
        "    def r(self, x):\n",
        "        return self.f(x) / (1 - self.f(x))\n",
        "    \n",
        "    def fit(self, data_nu, data_de, batch_size=512, lr=1e-3, num_epochs=1000):\n",
        "     \n",
        "        loader_nu = data.DataLoader(data_nu, \n",
        "                                    batch_size=batch_size, \n",
        "                                    shuffle=True)\n",
        "        \n",
        "        loader_de = data.DataLoader(data_de, \n",
        "                                    batch_size=batch_size, \n",
        "                                    shuffle=True)\n",
        "        \n",
        "\n",
        "        optim = opt.Adam(self.f.parameters(), lr=lr)\n",
        "\n",
        "\n",
        "        for epoch in tqdm(range(num_epochs)):\n",
        "            for (batch_nu, batch_de) in zip(loader_nu, loader_de):\n",
        "                batch_nu = batch_nu.view(-1, 1).float()\n",
        "                batch_de = batch_de.view(-1, 1).float()\n",
        "                batch = torch.cat((batch_nu, batch_de), dim=0)\n",
        "                labels = torch.hstack((torch.ones(len(batch_nu)), torch.zeros(len(batch_de)))).view(-1, 1)\n",
        "\n",
        "\n",
        "                loss = F.binary_cross_entropy(self.f(batch), labels)\n",
        "\n",
        "                optim.zero_grad()\n",
        "                loss.backward()\n",
        "                optim.step()"
      ],
      "metadata": {
        "id": "E2DwQQ9vL20e"
      },
      "execution_count": null,
      "outputs": []
    },
    {
      "cell_type": "code",
      "source": [
        "modelpr = ProbClassDRE()\n",
        "modelpr.fit(data_nu, data_de)"
      ],
      "metadata": {
        "colab": {
          "base_uri": "https://localhost:8080/",
          "height": 49,
          "referenced_widgets": [
            "7f675b42ccfe4365b15c0f6718c34cf2",
            "0e34da9b933943f699d7a819df59e858",
            "8539ce43e2564fd68db4608d519c61f8",
            "215556c134d44b8ebd0bcf0d01d35aeb",
            "387008251b5d4d99b92549bedebcecf9",
            "96247c41fa7a40c080080040d4bd84ce",
            "8793053c0b9a419388998c158d61f05b",
            "029b3b9046ca4292ba962f5a726e0bd6",
            "2b608277a41349c788c52a5ed17ed355",
            "01c8941f748a4dcebd4018a9d1f464c8",
            "d5facf53454540fca6a864bb1fa648f5"
          ]
        },
        "id": "ttT_MbW1L2xm",
        "outputId": "5e147a1a-7eec-4295-e618-c9e5ed1db3cc"
      },
      "execution_count": null,
      "outputs": [
        {
          "output_type": "display_data",
          "data": {
            "application/vnd.jupyter.widget-view+json": {
              "model_id": "7f675b42ccfe4365b15c0f6718c34cf2",
              "version_minor": 0,
              "version_major": 2
            },
            "text/plain": [
              "  0%|          | 0/1000 [00:00<?, ?it/s]"
            ]
          },
          "metadata": {}
        }
      ]
    },
    {
      "cell_type": "code",
      "source": [
        "plot_dre(modelpr, 'Probabilistic classifier')"
      ],
      "metadata": {
        "colab": {
          "base_uri": "https://localhost:8080/",
          "height": 298
        },
        "id": "DBKqgjmq328d",
        "outputId": "2970b266-b59d-4a50-dd31-56d809515fc4"
      },
      "execution_count": null,
      "outputs": [
        {
          "output_type": "display_data",
          "data": {
            "text/plain": [
              "<Figure size 432x288 with 0 Axes>"
            ]
          },
          "metadata": {}
        },
        {
          "output_type": "display_data",
          "data": {
            "image/png": "[encoded data removed]",
            "text/plain": [
              "<Figure size 432x288 with 1 Axes>"
            ]
          },
          "metadata": {
            "needs_background": "light"
          }
        }
      ]
    },
    {
      "cell_type": "code",
      "source": [
        ""
      ],
      "metadata": {
        "id": "_zKB2Ppt3vQz"
      },
      "execution_count": null,
      "outputs": []
    },
    {
      "cell_type": "markdown",
      "source": [
        "# Density matching\n",
        "\n",
        "*   $r(x)p_{de}(x) = p_{nu}(x)$\n",
        "* $KL(p_{nu}||p_{nu}^*) = C - E_{p_{nu}}\\log r^*(x)$\n",
        "* $E_{p_{de}}r^*(x)=1$\n",
        "\n",
        "(KLIEP - KL importance estimation procedure)"
      ],
      "metadata": {
        "id": "0FdtevO16vYj"
      }
    },
    {
      "cell_type": "markdown",
      "source": [
        "# Density Ratio fitting\n",
        "\n",
        "* $\\frac 12 E_{p_{de}} (r(x) - r^*(x))^2$\n",
        "\n",
        "(LSIF - leaast-squares importance fitting)"
      ],
      "metadata": {
        "id": "GL4tjgOU6zQc"
      }
    },
    {
      "cell_type": "markdown",
      "source": [
        "# Bregman divergence\n",
        "\n",
        "* $f$ - continuously-differentiable and strictly convex\n",
        "* $BR_f(x||x^*) = f(x) - f(x^*) - ∂ f(x^*) \\cdot ( x - x^*)$\n",
        "* $BR_f(r||r^*) = E_{p_{de}}f(r(x)) - f(r^*(x)) - ∂ f(r^*(x)) \\cdot (r(x) - r^*(x))$\n",
        "* $f(x) = x \\log(x) - (x+1)\\log(x+1)$\n"
      ],
      "metadata": {
        "id": "eL2grOrr8KL_"
      }
    },
    {
      "cell_type": "code",
      "source": [
        ""
      ],
      "metadata": {
        "id": "RokxLHJs9NWT"
      },
      "execution_count": null,
      "outputs": []
    }
  ]
}