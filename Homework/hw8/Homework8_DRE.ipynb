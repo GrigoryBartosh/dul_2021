{
  "nbformat": 4,
  "nbformat_minor": 0,
  "metadata": {
    "colab": {
      "name": "Homework8_DRE.ipynb",
      "provenance": [],
      "collapsed_sections": []
    },
    "kernelspec": {
      "name": "python3",
      "display_name": "Python 3"
    },
    "language_info": {
      "name": "python"
    }
  },
  "cells": [
    {
      "cell_type": "code",
      "execution_count": null,
      "metadata": {
        "id": "botyZAC03R1t"
      },
      "outputs": [],
      "source": [
        "!if [ -d dul_2021 ]; then rm -Rf dul_2021; fi\n",
        "!git clone https://github.com/GrigoryBartosh/dul_2021\n",
        "!unzip -qq dul_2021/Homework/hw1/data/hw1_data.zip -d dul_2021/Homework/hw1/data/\n",
        "!mv -v dul_2021/Homework/hw1/data/hw1_data/* dul_2021/Homework/hw1/data/\n",
        "!rmdir dul_2021/Homework/hw1/data/hw1_data/\n",
        "!pip install ./dul_2021"
      ]
    },
    {
      "cell_type": "code",
      "source": [
        "import torch\n",
        "import numpy as np\n",
        "import torch.nn as nn\n",
        "import torch.nn.functional as F\n",
        "\n",
        "from torch.nn import Conv2d, ConvTranspose2d\n",
        "from torch.utils import data\n",
        "from torch import optim\n",
        "\n",
        "from tqdm import trange, tqdm\n",
        "from collections import defaultdict\n",
        "from sklearn.metrics.pairwise import rbf_kernel as rbf\n",
        "\n",
        "from torch.distributions import MultivariateNormal\n",
        "\n",
        "device = \"cuda\""
      ],
      "metadata": {
        "id": "0IHCNQMWNWWA"
      },
      "execution_count": 2,
      "outputs": []
    },
    {
      "cell_type": "code",
      "metadata": {
        "id": "ZHWosWrbpO5Y"
      },
      "source": [
        "from dul_2021.utils.hw8_utils import *"
      ],
      "execution_count": 3,
      "outputs": []
    },
    {
      "cell_type": "markdown",
      "source": [
        "# Question 1. KMM"
      ],
      "metadata": {
        "id": "WGaJ2yY4bGWo"
      }
    },
    {
      "cell_type": "markdown",
      "source": [
        "## Notations from practice\n",
        "\n",
        "*   $p_{nu}(x)$ - pdf of numerator\n",
        "*   $p_{de}(x)$ - pdf of denominator\n",
        "*   $r(x)=\\frac{p_{nu}(x)}{p_{de}(x)}$ - density ratio\n",
        "*   $p_{nu}^*, p_{du}^*, r^*$ - estimatinos of respective functions\n",
        "*   $\\{x^{nu}_i\\}_{i=1}^{n_{nu}}$ - sample from numerator distribution\n",
        "*   $\\{x^{de}_i\\}_{i=1}^{n_{de}}$ - sample from denominator distribution\n",
        "\n",
        "\n",
        "\n",
        "## KMM objective\n",
        "\n",
        "Here we will implement Kernel Mean Matching (KMM) method for density ratio estimation. The basic idea of KMM is to 'match' expections of kernel function:\n",
        "\n",
        "$$argmin_{r^*} ||E_{p_{de}}r^*(x)K(\\cdot, x) - E_{p_{nu}}K(\\cdot, x)||$$\n",
        "\n",
        "Where $K(x, x') = exp(-\\frac{|x-y|^2}{2\\sigma^2})$. Emperical variant of this objective can be rewritten as follows:\n",
        "\n",
        "$$argmin_{r^*} \\frac{1}{n_{de}^2} (r^*_{de})^t K_{de, de} r^*_{de} - \\frac{2}{n_{nu}n_{de} }(r^*_{de})^t K_{de, nu}1_{n_{nu}}$$\n",
        "\n",
        "Where\n",
        "\n",
        "\n",
        "*   $r^*_{de}$ - vector with $(r^*_{de})_i=r^*(x^{de}_i)$\n",
        "*   $K_{de, de}$ - matrix with $(K_{de, de})_{i, j} = K(x^{de}_i, x^{de}_j)$\n",
        "*   $K_{de, nu}$ - matrix with $(K_{de, nu})_{i, j} = K(x^{de}_i, x^{nu}_j)$\n",
        "*   $1_{n_{nu}}$ - vector with $n_{nu}$ ones\n",
        "\n",
        "\n",
        "## You will provide these deliverables\n",
        "Density ratio on $[-2, 2]$.\n"
      ],
      "metadata": {
        "id": "9puPlBKicfOq"
      }
    },
    {
      "cell_type": "code",
      "source": [
        "# distributions"
      ],
      "metadata": {
        "colab": {
          "base_uri": "https://localhost:8080/",
          "height": 283
        },
        "id": "07hzT2JG2Lvv",
        "outputId": "303516fe-a460-438f-e3fd-649e6fbb9d29"
      },
      "execution_count": null,
      "outputs": [
        {
          "output_type": "display_data",
          "data": {
            "text/plain": [
              "<Figure size 432x288 with 0 Axes>"
            ]
          },
          "metadata": {}
        },
        {
          "output_type": "display_data",
          "data": {
            "image/png": "[encoded data removed]",
            "text/plain": [
              "<Figure size 432x288 with 1 Axes>"
            ]
          },
          "metadata": {
            "needs_background": "light"
          }
        }
      ]
    },
    {
      "cell_type": "code",
      "source": [
        "class KMM(nn.Module):\n",
        "  def __init__(self, hd=128):\n",
        "    super().__init__()\n",
        "    self.r = nn.Sequential(nn.Linear(1, hd), \n",
        "                            nn.ReLU(),\n",
        "                            nn.Linear(hd, hd), \n",
        "                            nn.ReLU(),\n",
        "                            nn.Linear(hd, 1),\n",
        "                            nn.Softplus())\n",
        "    \n",
        "  def kernel(self, vec1, vec2):\n",
        "      return torch.tensor(rbf(vec1.cpu(), vec2.cpu(), gamma=10)).to(device)\n",
        "   \n",
        "  def fit(self, data_nu, data_de, batch_size=512, lr=1e-3, num_epochs=100):\n",
        "     \n",
        "      optimizer = optim.Adam(self.r.parameters(), lr=lr)\n",
        "\n",
        "      for epoch in tqdm(range(num_epochs)):\n",
        "            \n",
        "            for (batch_nu, batch_de) in zip(data_nu, data_de):    \n",
        "\n",
        "                batch_nu = batch_nu.reshape(-1, 1).float().to(device)\n",
        "                batch_de = batch_de.reshape(-1, 1).float().to(device)\n",
        "\n",
        "                ones_nu = torch.ones_like(batch_nu, requires_grad=False)\n",
        "\n",
        "                r_de = self.r(batch_de)\n",
        "                k_de = self.kernel(batch_de, batch_de)\n",
        "                k_nu = self.kernel(batch_de, batch_nu)\n",
        "\n",
        "                loss = (r_de.T.matmul(k_de).matmul(r_de) - 2 * r_de.T.matmul(k_nu).matmul(ones_nu)).mean()\n",
        "\n",
        "                optimizer.zero_grad()\n",
        "                loss.backward()\n",
        "                optimizer.step()"
      ],
      "metadata": {
        "id": "fD3w__LfME3T"
      },
      "execution_count": 4,
      "outputs": []
    },
    {
      "cell_type": "code",
      "source": [
        "def q1(data_nu, data_de):\n",
        "  \"\"\"\n",
        "  data_nu - An [n_nu] dataset with samples from numerator's distribution\n",
        "  data_de - An [n_de] dataset with samples from denominators's distribution\n",
        "  \n",
        "  Returns\n",
        "    - a np.array with density ratios of np.linspace(-2., 2, num=100)\n",
        "  \"\"\"\n",
        "  \n",
        "  kmm = KMM().to(device)\n",
        "\n",
        "  dataloader_nu = data.DataLoader(data_nu, batch_size=512, shuffle=True)\n",
        "  dataloader_de = data.DataLoader(data_de, batch_size=512, shuffle=True)\n",
        "  \n",
        "  kmm.fit(dataloader_nu, dataloader_de)\n",
        "\n",
        "  # you need to calculate density ratio on x and return it\n",
        "  x = np.linspace(-2., 2, num=100)\n",
        "  x_pred = kmm.r(torch.tensor(x).reshape(-1, 1).float().to(device)).detach().cpu().numpy()\n",
        "\n",
        "  return x_pred"
      ],
      "metadata": {
        "id": "4-jdrQdePnCk"
      },
      "execution_count": null,
      "outputs": []
    },
    {
      "cell_type": "code",
      "source": [
        "q1_results(q1)"
      ],
      "metadata": {
        "colab": {
          "base_uri": "https://localhost:8080/",
          "height": 302
        },
        "id": "4uSiYdu--V5G",
        "outputId": "a8e1b435-7457-4176-bf56-89850144fcf3"
      },
      "execution_count": null,
      "outputs": [
        {
          "output_type": "stream",
          "name": "stderr",
          "text": [
            "100%|██████████| 100/100 [00:28<00:00,  3.51it/s]\n"
          ]
        },
        {
          "output_type": "display_data",
          "data": {
            "text/plain": [
              "<Figure size 432x288 with 0 Axes>"
            ]
          },
          "metadata": {}
        },
        {
          "output_type": "display_data",
          "data": {
            "image/png": "[encoded data removed]",
            "text/plain": [
              "<Figure size 432x288 with 1 Axes>"
            ]
          },
          "metadata": {
            "needs_background": "light"
          }
        }
      ]
    },
    {
      "cell_type": "markdown",
      "source": [
        "# Question 2. AVB"
      ],
      "metadata": {
        "id": "uBag5rcAckn8"
      }
    },
    {
      "cell_type": "markdown",
      "source": [
        "Here we will implement [Adversairal Variational Bayes](https://dl.acm.org/doi/pdf/10.5555/3305890.3305928).\n",
        "\n",
        "You may experiment with different hyperparameters and architecture designs, but the following designs for the AVB architecture may be useful.\n",
        "\n",
        "```\n",
        "Classifier (T)\n",
        "    Conv2d(1, 32, 3, 1, 1), \n",
        "    ReLU(),\n",
        "    Conv2d(32, 64, 3, 2, 1),\n",
        "    ReLU(), \n",
        "    Conv2d(64, 128, 3, 2, 1), \n",
        "    ReLU(), \n",
        "    Conv2d(128, 128, 3, 2, 1), \n",
        "    ReLU(),\n",
        "    # reshape + add latent\n",
        "    Linear(4 * 4 * 128 + ld, hd), \n",
        "    ReLU(),\n",
        "    Linear(hd, hd), \n",
        "    ReLU(),\n",
        "    Linear(hd, 1)\n",
        "\n",
        "\n",
        "Encoder (E)\n",
        "\n",
        "    Conv2d(1, 32, 3, 1, 1), \n",
        "    ReLU(),\n",
        "    Conv2d(32, 64, 3, 2, 1),\n",
        "    ReLU(), \n",
        "    Conv2d(64, 128, 3, 2, 1), \n",
        "    ReLU(), \n",
        "    Conv2d(128, 128, 3, 2, 1), \n",
        "    ReLU(), \n",
        "    # add noise + reshape\n",
        "    Linear(4 * 4 * 128 + nd, ld)\n",
        "\n",
        "Decoder (D)\n",
        "    ConvTranspose2d(128, 128, 3, 2, 1), \n",
        "    ReLU(), \n",
        "    ConvTranspose2d(128, 64, 4, 2, 1), \n",
        "    ReLU(), \n",
        "    ConvTranspose2d(64, 32, 4, 2, 1), \n",
        "    ReLU(), \n",
        "    Conv2d(32, 1, 3, 1, 1)\n",
        "    # reshape\n",
        "    Linear(ld, 4 * 4 * 128), \n",
        "    ReLU()\n",
        "```\n",
        "\n",
        "**Reminder.** Objective for AVB\n",
        "\n",
        "$$max_{\\theta, \\phi} E \\log p_\\theta(x|z_\\phi(x)) - T(x, z_\\phi(x))$$\n",
        "$$max_{T} E_x \\bigg(E_{q_\\phi(z|x)} \\log\\big(\\sigma (T(x, z))\\big) + E_{p(z)} \\log\\big(1 - \\sigma (T(x, z))\\big)\\bigg) $$\n",
        "\n",
        "$\\phi$ - parameters of encoder, $\\theta$ - parameters of decoder\n",
        "\n",
        "\n",
        "**You will provide the following deliverables**\n",
        "\n",
        "\n",
        "1.   Over the course of training, record the elbo and loss of the classifier T ber batch.\n",
        "2. Report the final test set performances of your final models\n",
        "3. 100 samples from your trained AVB"
      ],
      "metadata": {
        "id": "-V1V1syvbINX"
      }
    },
    {
      "cell_type": "code",
      "source": [
        "class Dataset:\n",
        "  def __init__(self):\n",
        "      self.data = None\n",
        "  \n",
        "  def get_dataloader(self, data: np.ndarray):\n",
        "      self.data = torch.tensor(data).float()\n",
        "      self._transpose_data()\n",
        "    \n",
        "      return torch.utils.data.DataLoader(self.data,\n",
        "                                          pin_memory=True,\n",
        "                                          drop_last=False,\n",
        "                                          num_workers=4,\n",
        "                                          batch_size=512)\n",
        "\n",
        "  def _transpose_data(self):\n",
        "      self.data = self.data.permute(0, 3, 1, 2)"
      ],
      "metadata": {
        "id": "LGgvBlG3FJ2F"
      },
      "execution_count": 4,
      "outputs": []
    },
    {
      "cell_type": "code",
      "source": [
        "config = {\"encoder\":\n",
        "          {\"n_encoder_layers\": 3,\n",
        "           \"out_channels\": 32,\n",
        "           \"flatten_dim\": 16,\n",
        "           \"lattent_dim\": 128},\n",
        "         \"decoder\":\n",
        "          {\"n_decoder_layers\": 3,\n",
        "           \"in_channels\": 128,\n",
        "           \"in_img_size\": 4,\n",
        "           \"lattent_dim\": 128},\n",
        "         \"classifier\": \n",
        "          {\"n_encoder_layers\": 3,\n",
        "           \"out_channels\": 32,\n",
        "           \"flatten_dim\": 16,\n",
        "           \"lattent_dim\": 128},\n",
        "          \"vae\":\n",
        "          {\"grad_clip\": 1,\n",
        "           \"epochs\": 15,\n",
        "           \"lr\": 1e-3,\n",
        "           \"verbose\": 5, \n",
        "           \"lattent_dim\": 128, \n",
        "           \"n_samples\": 100}\n",
        "        }"
      ],
      "metadata": {
        "id": "ebinoMiuG67l"
      },
      "execution_count": 5,
      "outputs": []
    },
    {
      "cell_type": "code",
      "source": [
        "class Encoder(torch.nn.Module):\n",
        "    def __init__(self, **kwargs):\n",
        "        super().__init__()\n",
        "        for key, value in kwargs.items():\n",
        "            setattr(self, key, value)\n",
        "\n",
        "        relu = torch.nn.ReLU()\n",
        "        model = [Conv2d(1, self.out_channels, 3, 1, 1)]\n",
        "        in_channels = self.out_channels\n",
        "\n",
        "        for _ in range(self.n_encoder_layers):\n",
        "            if in_channels != 128:\n",
        "                out_channels = in_channels * 2\n",
        "            model.extend([relu, Conv2d(in_channels, out_channels, 3, 2, 1)])\n",
        "            in_channels = out_channels\n",
        "\n",
        "        self.model = torch.nn.Sequential(*model)\n",
        "        self.linear = torch.nn.Linear(self.flatten_dim * 128, self.lattent_dim)\n",
        "\n",
        "    def forward(self, x):\n",
        "        output = self.model(x)  \n",
        "        output = output.reshape(output.shape[0], -1)\n",
        "        output = self.linear(output)\n",
        "        print(output.shape)\n",
        "        return output "
      ],
      "metadata": {
        "id": "PpLXE4HnGgBu"
      },
      "execution_count": 67,
      "outputs": []
    },
    {
      "cell_type": "code",
      "source": [
        "encoder = Encoder(**config[\"encoder\"])\n",
        "encoder"
      ],
      "metadata": {
        "colab": {
          "base_uri": "https://localhost:8080/"
        },
        "id": "P3kx9iSQGw5H",
        "outputId": "00a5d5a4-3243-48f1-c597-2b8bf626782e"
      },
      "execution_count": 68,
      "outputs": [
        {
          "output_type": "execute_result",
          "data": {
            "text/plain": [
              "Encoder(\n",
              "  (model): Sequential(\n",
              "    (0): Conv2d(1, 32, kernel_size=(3, 3), stride=(1, 1), padding=(1, 1))\n",
              "    (1): ReLU()\n",
              "    (2): Conv2d(32, 64, kernel_size=(3, 3), stride=(2, 2), padding=(1, 1))\n",
              "    (3): ReLU()\n",
              "    (4): Conv2d(64, 128, kernel_size=(3, 3), stride=(2, 2), padding=(1, 1))\n",
              "    (5): ReLU()\n",
              "    (6): Conv2d(128, 128, kernel_size=(3, 3), stride=(2, 2), padding=(1, 1))\n",
              "  )\n",
              "  (linear): Linear(in_features=2048, out_features=128, bias=True)\n",
              ")"
            ]
          },
          "metadata": {},
          "execution_count": 68
        }
      ]
    },
    {
      "cell_type": "code",
      "source": [
        "class Decoder(torch.nn.Module):\n",
        "    def __init__(self, **kwargs):\n",
        "        super().__init__()\n",
        "        for key, value in kwargs.items():\n",
        "            setattr(self, key, value)\n",
        "\n",
        "        self.linear = torch.nn.Linear(self.lattent_dim, 128 * 4 * 4)\n",
        "        \n",
        "        relu = torch.nn.ReLU()\n",
        "        out_channels = self.in_channels\n",
        "        in_channels = self.in_channels\n",
        "        model = []\n",
        "        for _ in range(self.n_decoder_layers):\n",
        "          model.extend([ConvTranspose2d(in_channels, out_channels, 4, 2, 1), relu])\n",
        "          in_channels = out_channels\n",
        "          out_channels = out_channels // 2\n",
        "\n",
        "        self.model = torch.nn.Sequential(*model)\n",
        "        self.conv_layer = Conv2d(in_channels, 1, 3, 1, 1)\n",
        "\n",
        "    def forward(self, x):\n",
        "        output = self.model(x)\n",
        "        output = self.conv_layer(output)\n",
        "        output = F.relu(self.linear(output))\n",
        "        return output"
      ],
      "metadata": {
        "id": "VKdDq_mHKsmF"
      },
      "execution_count": 81,
      "outputs": []
    },
    {
      "cell_type": "code",
      "source": [
        "128 * 16"
      ],
      "metadata": {
        "colab": {
          "base_uri": "https://localhost:8080/"
        },
        "id": "mYM4QQO08D-U",
        "outputId": "3136ed5d-d205-467b-f5a4-744288b5f12e"
      },
      "execution_count": 77,
      "outputs": [
        {
          "output_type": "execute_result",
          "data": {
            "text/plain": [
              "2048"
            ]
          },
          "metadata": {},
          "execution_count": 77
        }
      ]
    },
    {
      "cell_type": "code",
      "source": [
        "decoder = Decoder(**config[\"decoder\"])\n",
        "decoder"
      ],
      "metadata": {
        "colab": {
          "base_uri": "https://localhost:8080/"
        },
        "id": "-biUK3jOLnG9",
        "outputId": "eb2bc71c-687a-40c7-e45d-2556fd41f9b8"
      },
      "execution_count": 71,
      "outputs": [
        {
          "output_type": "execute_result",
          "data": {
            "text/plain": [
              "Decoder(\n",
              "  (linear): Linear(in_features=128, out_features=2048, bias=True)\n",
              "  (model): Sequential(\n",
              "    (0): ConvTranspose2d(128, 128, kernel_size=(4, 4), stride=(2, 2), padding=(1, 1))\n",
              "    (1): ReLU()\n",
              "    (2): ConvTranspose2d(128, 64, kernel_size=(4, 4), stride=(2, 2), padding=(1, 1))\n",
              "    (3): ReLU()\n",
              "    (4): ConvTranspose2d(64, 32, kernel_size=(4, 4), stride=(2, 2), padding=(1, 1))\n",
              "    (5): ReLU()\n",
              "  )\n",
              "  (conv_layer): Conv2d(32, 1, kernel_size=(3, 3), stride=(1, 1), padding=(1, 1))\n",
              ")"
            ]
          },
          "metadata": {},
          "execution_count": 71
        }
      ]
    },
    {
      "cell_type": "code",
      "source": [
        "class Classifier(torch.nn.Module):\n",
        "    def __init__(self, **kwargs):\n",
        "        super().__init__()\n",
        "        for key, value in kwargs.items():\n",
        "            setattr(self, key, value)\n",
        "\n",
        "        relu = torch.nn.ReLU()\n",
        "        model = [Conv2d(1, self.out_channels, 3, 1, 1)]\n",
        "        in_channels = self.out_channels\n",
        "\n",
        "        for _ in range(self.n_encoder_layers):\n",
        "            if in_channels != 128:\n",
        "                out_channels = in_channels * 2\n",
        "            model.extend([relu, Conv2d(in_channels, out_channels, 3, 2, 1)])\n",
        "            in_channels = out_channels\n",
        "\n",
        "        self.model = torch.nn.Sequential(*model)\n",
        "\n",
        "        linears = [torch.nn.Linear(self.flatten_dim * 128, self.lattent_dim)]\n",
        "        linears.extend([relu, torch.nn.Linear(self.lattent_dim, self.lattent_dim)])\n",
        "        linears.extend([relu, torch.nn.Linear(self.lattent_dim, 1)])\n",
        "\n",
        "        self.linears = torch.nn.Sequential(*linears)\n",
        "\n",
        "    def forward(self, x, z):\n",
        "        output = self.model(x)  \n",
        "        output = output.reshape(output.shape[0], -1)\n",
        "        output = self.linears(torch.cat((output, z), dim=1))\n",
        "        return output "
      ],
      "metadata": {
        "id": "MjbprUSfNGx0"
      },
      "execution_count": 72,
      "outputs": []
    },
    {
      "cell_type": "code",
      "source": [
        "classifier = Classifier(**config[\"classifier\"])\n",
        "classifier"
      ],
      "metadata": {
        "colab": {
          "base_uri": "https://localhost:8080/"
        },
        "id": "xRqPPbtgPisP",
        "outputId": "09ec60b2-7a16-4512-a0c6-0a70cd324660"
      },
      "execution_count": 73,
      "outputs": [
        {
          "output_type": "execute_result",
          "data": {
            "text/plain": [
              "Classifier(\n",
              "  (model): Sequential(\n",
              "    (0): Conv2d(1, 32, kernel_size=(3, 3), stride=(1, 1), padding=(1, 1))\n",
              "    (1): ReLU()\n",
              "    (2): Conv2d(32, 64, kernel_size=(3, 3), stride=(2, 2), padding=(1, 1))\n",
              "    (3): ReLU()\n",
              "    (4): Conv2d(64, 128, kernel_size=(3, 3), stride=(2, 2), padding=(1, 1))\n",
              "    (5): ReLU()\n",
              "    (6): Conv2d(128, 128, kernel_size=(3, 3), stride=(2, 2), padding=(1, 1))\n",
              "  )\n",
              "  (linears): Sequential(\n",
              "    (0): Linear(in_features=2048, out_features=128, bias=True)\n",
              "    (1): ReLU()\n",
              "    (2): Linear(in_features=128, out_features=128, bias=True)\n",
              "    (3): ReLU()\n",
              "    (4): Linear(in_features=128, out_features=1, bias=True)\n",
              "  )\n",
              ")"
            ]
          },
          "metadata": {},
          "execution_count": 73
        }
      ]
    },
    {
      "cell_type": "code",
      "source": [
        "class AVB:\n",
        "  def __init__(self):\n",
        "      super().__init__()\n",
        "      for key, value in config[\"vae\"].items():\n",
        "        setattr(self, key, value)\n",
        "      self.encoder = Encoder(**config[\"encoder\"]).to(device)\n",
        "      self.decoder = Decoder(**config[\"decoder\"]).to(device)\n",
        "      self.classifier = Classifier(**config[\"classifier\"]).to(device)\n",
        "\n",
        "      self.elbo_optimizer = torch.optim.Adam(list(self.encoder.parameters()) + list(self.decoder.parameters()),\n",
        "                                             lr=self.lr)\n",
        "      self.clas_optimizer = torch.optim.Adam(self.classifier.parameters(), lr=self.lr)\n",
        "      self.distribution = MultivariateNormal(torch.zeros(self.lattent_dim, device=device), \n",
        "                                             torch.eye(self.lattent_dim, device=device))\n",
        "\n",
        "\n",
        "  def loss(self, x):\n",
        "      x = 2 * x - 1\n",
        "      z = self.encoder(x)\n",
        "      x_hat = self.decoder(z)\n",
        "      cl = self.classifier(x, z)\n",
        "\n",
        "      rc_loss = F.mse_loss(x, x_hat, reduction='none').view(x.shape[0], -1).sum(1)\n",
        "      elbo_loss = (rc_loss + cl).mean()\n",
        "\n",
        "      s = self.distribution.sample(x.shape[0])\n",
        "\n",
        "      cl_real = torch.sigmoid(self.classifier(x, z.detach()))\n",
        "      cl_loss_real = F.binary_cross_entropy(cl_real, torch.ones_like(cl_real))\n",
        "\n",
        "      cl_fake = torch.sigmoid(self.classifier(x, s))\n",
        "      cl_loss_fake = F.binary_cross_entropy(cl_fake, torch.ones_like(cl_fake))\n",
        "\n",
        "      classifier_loss = (cl_loss_real + cl_loss_fake).mean()\n",
        "\n",
        "      return defaultdict(el_loss=elbo_loss, cl_loss=classifier_loss) \n",
        "\n",
        "\n",
        "  def sample(self, n):\n",
        "      with torch.no_grad():\n",
        "          z = self.distribution.sample((self.lattent_dim))\n",
        "          samples = torch.clamp(self.decoder(z), -1, 1)\n",
        "          samples = samples.detach().cpu().permute(0, 2, 3, 1).numpy() * 0.5 + 0.5\n",
        "      return samples * 255.\n",
        "\n",
        "\n",
        "  def train_loop(self, train_loader):\n",
        "      self.encoder.train()\n",
        "      self.decoder.train()\n",
        "      self.classifier.train()\n",
        "\n",
        "      train_losses = defaultdict(lambda: [])\n",
        "      for epoch in trange(self.epochs):\n",
        "        epoch_train_losses = defaultdict(lambda: [])\n",
        "        for x in train_loader:\n",
        "          x = x.to(device)\n",
        "          torch.cuda.empty_cache()\n",
        "          \n",
        "          losses = self.loss(x)\n",
        "          self.elbo_optimizer.zero_grad()\n",
        "          losses['el_loss'].backward()\n",
        "          self.elbo_optimizer.step()\n",
        "\n",
        "          self.clas_optimizer.zero_grad()\n",
        "          losses['cl_loss'].backward()\n",
        "          self.clas_optimizer.backward()\n",
        "\n",
        "          for k in losses.keys():\n",
        "            epoch_train_losses[k].append(losses[k].item())\n",
        "          \n",
        "\n",
        "        for k in epoch_train_losses.keys():\n",
        "          train_losses[k].append(np.mean(epoch_train_losses[k]))\n",
        "\n",
        "      train_losses = np.stack((train_losses['el_loss'], train_losses['cl_loss']), axis=1) \n",
        "      samples = self.sample(self.n_samples)\n",
        "      \n",
        "      return train_losses, samples"
      ],
      "metadata": {
        "id": "FNBqKAwHxM2g"
      },
      "execution_count": 74,
      "outputs": []
    },
    {
      "cell_type": "code",
      "source": [
        "def q2(train_data, test_data):\n",
        "  \"\"\"\n",
        "  train_data - A (n_train, 28, 28, 1) uint8 numpy array of binary images with values in {0, 1}\n",
        "   Returns\n",
        "  - a (# of training iterations,) numpy array of elbo_losses evaluated every minibatch\n",
        "  - a (# of training iterations,) numpy array of classifier_losses evaluated every minibatch\n",
        "  - a torch tensor of size (100, 1, 28, 28) of samples with values in {0, 1}\n",
        "  \"\"\"\n",
        "  # your code goes here\n",
        "  dataset = Dataset()\n",
        "\n",
        "  train_loader = dataset.get_dataloader(train_data)\n",
        "  model = AVB()\n",
        "  train_losses, samples = model.train_loop(train_loader)\n",
        "  return train_losses[\"el_loss\"], train_losses[\"cl_loss\"], samples"
      ],
      "metadata": {
        "id": "IFeqntQsUkYG"
      },
      "execution_count": 75,
      "outputs": []
    },
    {
      "cell_type": "code",
      "source": [
        "q2_results(q2)"
      ],
      "metadata": {
        "id": "_Kvk3MMY8lH_",
        "colab": {
          "base_uri": "https://localhost:8080/",
          "height": 1000
        },
        "outputId": "4d8205e3-430e-4cec-9312-1fe5dfc181f1"
      },
      "execution_count": 82,
      "outputs": [
        {
          "output_type": "stream",
          "name": "stderr",
          "text": [
            "/usr/local/lib/python3.7/dist-packages/torch/utils/data/dataloader.py:481: UserWarning: This DataLoader will create 4 worker processes in total. Our suggested max number of worker in current system is 2, which is smaller than what this DataLoader is going to create. Please be aware that excessive worker creation might get DataLoader running slow or even freeze, lower the worker number to avoid potential slowness/freeze if necessary.\n",
            "  cpuset_checked))\n",
            "  0%|          | 0/15 [00:00<?, ?it/s]"
          ]
        },
        {
          "output_type": "stream",
          "name": "stdout",
          "text": [
            "torch.Size([512, 128])\n"
          ]
        },
        {
          "output_type": "stream",
          "name": "stderr",
          "text": [
            "\r  0%|          | 0/15 [00:01<?, ?it/s]\n"
          ]
        },
        {
          "output_type": "error",
          "ename": "RuntimeError",
          "evalue": "ignored",
          "traceback": [
            "\u001b[0;31m---------------------------------------------------------------------------\u001b[0m",
            "\u001b[0;31mRuntimeError\u001b[0m                              Traceback (most recent call last)",
            "\u001b[0;32m<ipython-input-82-b7da9fbc2f3b>\u001b[0m in \u001b[0;36m<module>\u001b[0;34m()\u001b[0m\n\u001b[0;32m----> 1\u001b[0;31m \u001b[0mq2_results\u001b[0m\u001b[0;34m(\u001b[0m\u001b[0mq2\u001b[0m\u001b[0;34m)\u001b[0m\u001b[0;34m\u001b[0m\u001b[0;34m\u001b[0m\u001b[0m\n\u001b[0m",
            "\u001b[0;32m/content/dul_2021/utils/hw8_utils.py\u001b[0m in \u001b[0;36mq2_results\u001b[0;34m(q)\u001b[0m\n\u001b[1;32m     87\u001b[0m     \u001b[0mtrain_data\u001b[0m\u001b[0;34m,\u001b[0m \u001b[0mtest_data\u001b[0m \u001b[0;34m=\u001b[0m \u001b[0mload_pickled_data\u001b[0m\u001b[0;34m(\u001b[0m\u001b[0mjoin\u001b[0m\u001b[0;34m(\u001b[0m\u001b[0mdata_dir\u001b[0m\u001b[0;34m,\u001b[0m \u001b[0;34m'mnist.pkl'\u001b[0m\u001b[0;34m)\u001b[0m\u001b[0;34m)\u001b[0m\u001b[0;34m\u001b[0m\u001b[0;34m\u001b[0m\u001b[0m\n\u001b[1;32m     88\u001b[0m \u001b[0;34m\u001b[0m\u001b[0m\n\u001b[0;32m---> 89\u001b[0;31m     \u001b[0mtrain_elbo\u001b[0m\u001b[0;34m,\u001b[0m \u001b[0mtrain_clf\u001b[0m\u001b[0;34m,\u001b[0m \u001b[0mtest_elbo\u001b[0m\u001b[0;34m,\u001b[0m \u001b[0mtest_clf\u001b[0m\u001b[0;34m,\u001b[0m \u001b[0msamples\u001b[0m \u001b[0;34m=\u001b[0m \u001b[0mq\u001b[0m\u001b[0;34m(\u001b[0m\u001b[0mtrain_data\u001b[0m\u001b[0;34m,\u001b[0m \u001b[0mtest_data\u001b[0m\u001b[0;34m)\u001b[0m\u001b[0;34m\u001b[0m\u001b[0;34m\u001b[0m\u001b[0m\n\u001b[0m\u001b[1;32m     90\u001b[0m \u001b[0;34m\u001b[0m\u001b[0m\n\u001b[1;32m     91\u001b[0m     \u001b[0mplot_avb_training_plot\u001b[0m\u001b[0;34m(\u001b[0m\u001b[0mtrain_elbo\u001b[0m\u001b[0;34m,\u001b[0m \u001b[0mtrain_clf\u001b[0m\u001b[0;34m,\u001b[0m \u001b[0mtest_elbo\u001b[0m\u001b[0;34m,\u001b[0m \u001b[0mtest_clf\u001b[0m\u001b[0;34m,\u001b[0m \u001b[0;34m'Training Loss'\u001b[0m\u001b[0;34m)\u001b[0m\u001b[0;34m\u001b[0m\u001b[0;34m\u001b[0m\u001b[0m\n",
            "\u001b[0;32m<ipython-input-75-c07d18ed6298>\u001b[0m in \u001b[0;36mq2\u001b[0;34m(train_data, test_data)\u001b[0m\n\u001b[1;32m     12\u001b[0m   \u001b[0mtrain_loader\u001b[0m \u001b[0;34m=\u001b[0m \u001b[0mdataset\u001b[0m\u001b[0;34m.\u001b[0m\u001b[0mget_dataloader\u001b[0m\u001b[0;34m(\u001b[0m\u001b[0mtrain_data\u001b[0m\u001b[0;34m)\u001b[0m\u001b[0;34m\u001b[0m\u001b[0;34m\u001b[0m\u001b[0m\n\u001b[1;32m     13\u001b[0m   \u001b[0mmodel\u001b[0m \u001b[0;34m=\u001b[0m \u001b[0mAVB\u001b[0m\u001b[0;34m(\u001b[0m\u001b[0;34m)\u001b[0m\u001b[0;34m\u001b[0m\u001b[0;34m\u001b[0m\u001b[0m\n\u001b[0;32m---> 14\u001b[0;31m   \u001b[0mtrain_losses\u001b[0m\u001b[0;34m,\u001b[0m \u001b[0msamples\u001b[0m \u001b[0;34m=\u001b[0m \u001b[0mmodel\u001b[0m\u001b[0;34m.\u001b[0m\u001b[0mtrain_loop\u001b[0m\u001b[0;34m(\u001b[0m\u001b[0mtrain_loader\u001b[0m\u001b[0;34m)\u001b[0m\u001b[0;34m\u001b[0m\u001b[0;34m\u001b[0m\u001b[0m\n\u001b[0m\u001b[1;32m     15\u001b[0m   \u001b[0;32mreturn\u001b[0m \u001b[0mtrain_losses\u001b[0m\u001b[0;34m[\u001b[0m\u001b[0;34m\"el_loss\"\u001b[0m\u001b[0;34m]\u001b[0m\u001b[0;34m,\u001b[0m \u001b[0mtrain_losses\u001b[0m\u001b[0;34m[\u001b[0m\u001b[0;34m\"cl_loss\"\u001b[0m\u001b[0;34m]\u001b[0m\u001b[0;34m,\u001b[0m \u001b[0msamples\u001b[0m\u001b[0;34m\u001b[0m\u001b[0;34m\u001b[0m\u001b[0m\n",
            "\u001b[0;32m<ipython-input-74-72f3f34c6a21>\u001b[0m in \u001b[0;36mtrain_loop\u001b[0;34m(self, train_loader)\u001b[0m\n\u001b[1;32m     57\u001b[0m           \u001b[0mtorch\u001b[0m\u001b[0;34m.\u001b[0m\u001b[0mcuda\u001b[0m\u001b[0;34m.\u001b[0m\u001b[0mempty_cache\u001b[0m\u001b[0;34m(\u001b[0m\u001b[0;34m)\u001b[0m\u001b[0;34m\u001b[0m\u001b[0;34m\u001b[0m\u001b[0m\n\u001b[1;32m     58\u001b[0m \u001b[0;34m\u001b[0m\u001b[0m\n\u001b[0;32m---> 59\u001b[0;31m           \u001b[0mlosses\u001b[0m \u001b[0;34m=\u001b[0m \u001b[0mself\u001b[0m\u001b[0;34m.\u001b[0m\u001b[0mloss\u001b[0m\u001b[0;34m(\u001b[0m\u001b[0mx\u001b[0m\u001b[0;34m)\u001b[0m\u001b[0;34m\u001b[0m\u001b[0;34m\u001b[0m\u001b[0m\n\u001b[0m\u001b[1;32m     60\u001b[0m           \u001b[0mself\u001b[0m\u001b[0;34m.\u001b[0m\u001b[0melbo_optimizer\u001b[0m\u001b[0;34m.\u001b[0m\u001b[0mzero_grad\u001b[0m\u001b[0;34m(\u001b[0m\u001b[0;34m)\u001b[0m\u001b[0;34m\u001b[0m\u001b[0;34m\u001b[0m\u001b[0m\n\u001b[1;32m     61\u001b[0m           \u001b[0mlosses\u001b[0m\u001b[0;34m[\u001b[0m\u001b[0;34m'el_loss'\u001b[0m\u001b[0;34m]\u001b[0m\u001b[0;34m.\u001b[0m\u001b[0mbackward\u001b[0m\u001b[0;34m(\u001b[0m\u001b[0;34m)\u001b[0m\u001b[0;34m\u001b[0m\u001b[0;34m\u001b[0m\u001b[0m\n",
            "\u001b[0;32m<ipython-input-74-72f3f34c6a21>\u001b[0m in \u001b[0;36mloss\u001b[0;34m(self, x)\u001b[0m\n\u001b[1;32m     18\u001b[0m       \u001b[0mx\u001b[0m \u001b[0;34m=\u001b[0m \u001b[0;36m2\u001b[0m \u001b[0;34m*\u001b[0m \u001b[0mx\u001b[0m \u001b[0;34m-\u001b[0m \u001b[0;36m1\u001b[0m\u001b[0;34m\u001b[0m\u001b[0;34m\u001b[0m\u001b[0m\n\u001b[1;32m     19\u001b[0m       \u001b[0mz\u001b[0m \u001b[0;34m=\u001b[0m \u001b[0mself\u001b[0m\u001b[0;34m.\u001b[0m\u001b[0mencoder\u001b[0m\u001b[0;34m(\u001b[0m\u001b[0mx\u001b[0m\u001b[0;34m)\u001b[0m\u001b[0;34m\u001b[0m\u001b[0;34m\u001b[0m\u001b[0m\n\u001b[0;32m---> 20\u001b[0;31m       \u001b[0mx_hat\u001b[0m \u001b[0;34m=\u001b[0m \u001b[0mself\u001b[0m\u001b[0;34m.\u001b[0m\u001b[0mdecoder\u001b[0m\u001b[0;34m(\u001b[0m\u001b[0mz\u001b[0m\u001b[0;34m)\u001b[0m\u001b[0;34m\u001b[0m\u001b[0;34m\u001b[0m\u001b[0m\n\u001b[0m\u001b[1;32m     21\u001b[0m       \u001b[0mcl\u001b[0m \u001b[0;34m=\u001b[0m \u001b[0mself\u001b[0m\u001b[0;34m.\u001b[0m\u001b[0mclassifier\u001b[0m\u001b[0;34m(\u001b[0m\u001b[0mx\u001b[0m\u001b[0;34m,\u001b[0m \u001b[0mz\u001b[0m\u001b[0;34m)\u001b[0m\u001b[0;34m\u001b[0m\u001b[0;34m\u001b[0m\u001b[0m\n\u001b[1;32m     22\u001b[0m \u001b[0;34m\u001b[0m\u001b[0m\n",
            "\u001b[0;32m/usr/local/lib/python3.7/dist-packages/torch/nn/modules/module.py\u001b[0m in \u001b[0;36m_call_impl\u001b[0;34m(self, *input, **kwargs)\u001b[0m\n\u001b[1;32m   1100\u001b[0m         if not (self._backward_hooks or self._forward_hooks or self._forward_pre_hooks or _global_backward_hooks\n\u001b[1;32m   1101\u001b[0m                 or _global_forward_hooks or _global_forward_pre_hooks):\n\u001b[0;32m-> 1102\u001b[0;31m             \u001b[0;32mreturn\u001b[0m \u001b[0mforward_call\u001b[0m\u001b[0;34m(\u001b[0m\u001b[0;34m*\u001b[0m\u001b[0minput\u001b[0m\u001b[0;34m,\u001b[0m \u001b[0;34m**\u001b[0m\u001b[0mkwargs\u001b[0m\u001b[0;34m)\u001b[0m\u001b[0;34m\u001b[0m\u001b[0;34m\u001b[0m\u001b[0m\n\u001b[0m\u001b[1;32m   1103\u001b[0m         \u001b[0;31m# Do not call functions when jit is used\u001b[0m\u001b[0;34m\u001b[0m\u001b[0;34m\u001b[0m\u001b[0;34m\u001b[0m\u001b[0m\n\u001b[1;32m   1104\u001b[0m         \u001b[0mfull_backward_hooks\u001b[0m\u001b[0;34m,\u001b[0m \u001b[0mnon_full_backward_hooks\u001b[0m \u001b[0;34m=\u001b[0m \u001b[0;34m[\u001b[0m\u001b[0;34m]\u001b[0m\u001b[0;34m,\u001b[0m \u001b[0;34m[\u001b[0m\u001b[0;34m]\u001b[0m\u001b[0;34m\u001b[0m\u001b[0;34m\u001b[0m\u001b[0m\n",
            "\u001b[0;32m<ipython-input-81-f7e8881dec81>\u001b[0m in \u001b[0;36mforward\u001b[0;34m(self, x)\u001b[0m\n\u001b[1;32m     20\u001b[0m \u001b[0;34m\u001b[0m\u001b[0m\n\u001b[1;32m     21\u001b[0m     \u001b[0;32mdef\u001b[0m \u001b[0mforward\u001b[0m\u001b[0;34m(\u001b[0m\u001b[0mself\u001b[0m\u001b[0;34m,\u001b[0m \u001b[0mx\u001b[0m\u001b[0;34m)\u001b[0m\u001b[0;34m:\u001b[0m\u001b[0;34m\u001b[0m\u001b[0;34m\u001b[0m\u001b[0m\n\u001b[0;32m---> 22\u001b[0;31m         \u001b[0moutput\u001b[0m \u001b[0;34m=\u001b[0m \u001b[0mself\u001b[0m\u001b[0;34m.\u001b[0m\u001b[0mmodel\u001b[0m\u001b[0;34m(\u001b[0m\u001b[0mx\u001b[0m\u001b[0;34m)\u001b[0m\u001b[0;34m\u001b[0m\u001b[0;34m\u001b[0m\u001b[0m\n\u001b[0m\u001b[1;32m     23\u001b[0m         \u001b[0moutput\u001b[0m \u001b[0;34m=\u001b[0m \u001b[0mself\u001b[0m\u001b[0;34m.\u001b[0m\u001b[0mconv_layer\u001b[0m\u001b[0;34m(\u001b[0m\u001b[0moutput\u001b[0m\u001b[0;34m)\u001b[0m\u001b[0;34m\u001b[0m\u001b[0;34m\u001b[0m\u001b[0m\n\u001b[1;32m     24\u001b[0m         \u001b[0moutput\u001b[0m \u001b[0;34m=\u001b[0m \u001b[0mF\u001b[0m\u001b[0;34m.\u001b[0m\u001b[0mrelu\u001b[0m\u001b[0;34m(\u001b[0m\u001b[0mself\u001b[0m\u001b[0;34m.\u001b[0m\u001b[0mlinear\u001b[0m\u001b[0;34m(\u001b[0m\u001b[0moutput\u001b[0m\u001b[0;34m)\u001b[0m\u001b[0;34m)\u001b[0m\u001b[0;34m\u001b[0m\u001b[0;34m\u001b[0m\u001b[0m\n",
            "\u001b[0;32m/usr/local/lib/python3.7/dist-packages/torch/nn/modules/module.py\u001b[0m in \u001b[0;36m_call_impl\u001b[0;34m(self, *input, **kwargs)\u001b[0m\n\u001b[1;32m   1100\u001b[0m         if not (self._backward_hooks or self._forward_hooks or self._forward_pre_hooks or _global_backward_hooks\n\u001b[1;32m   1101\u001b[0m                 or _global_forward_hooks or _global_forward_pre_hooks):\n\u001b[0;32m-> 1102\u001b[0;31m             \u001b[0;32mreturn\u001b[0m \u001b[0mforward_call\u001b[0m\u001b[0;34m(\u001b[0m\u001b[0;34m*\u001b[0m\u001b[0minput\u001b[0m\u001b[0;34m,\u001b[0m \u001b[0;34m**\u001b[0m\u001b[0mkwargs\u001b[0m\u001b[0;34m)\u001b[0m\u001b[0;34m\u001b[0m\u001b[0;34m\u001b[0m\u001b[0m\n\u001b[0m\u001b[1;32m   1103\u001b[0m         \u001b[0;31m# Do not call functions when jit is used\u001b[0m\u001b[0;34m\u001b[0m\u001b[0;34m\u001b[0m\u001b[0;34m\u001b[0m\u001b[0m\n\u001b[1;32m   1104\u001b[0m         \u001b[0mfull_backward_hooks\u001b[0m\u001b[0;34m,\u001b[0m \u001b[0mnon_full_backward_hooks\u001b[0m \u001b[0;34m=\u001b[0m \u001b[0;34m[\u001b[0m\u001b[0;34m]\u001b[0m\u001b[0;34m,\u001b[0m \u001b[0;34m[\u001b[0m\u001b[0;34m]\u001b[0m\u001b[0;34m\u001b[0m\u001b[0;34m\u001b[0m\u001b[0m\n",
            "\u001b[0;32m/usr/local/lib/python3.7/dist-packages/torch/nn/modules/container.py\u001b[0m in \u001b[0;36mforward\u001b[0;34m(self, input)\u001b[0m\n\u001b[1;32m    139\u001b[0m     \u001b[0;32mdef\u001b[0m \u001b[0mforward\u001b[0m\u001b[0;34m(\u001b[0m\u001b[0mself\u001b[0m\u001b[0;34m,\u001b[0m \u001b[0minput\u001b[0m\u001b[0;34m)\u001b[0m\u001b[0;34m:\u001b[0m\u001b[0;34m\u001b[0m\u001b[0;34m\u001b[0m\u001b[0m\n\u001b[1;32m    140\u001b[0m         \u001b[0;32mfor\u001b[0m \u001b[0mmodule\u001b[0m \u001b[0;32min\u001b[0m \u001b[0mself\u001b[0m\u001b[0;34m:\u001b[0m\u001b[0;34m\u001b[0m\u001b[0;34m\u001b[0m\u001b[0m\n\u001b[0;32m--> 141\u001b[0;31m             \u001b[0minput\u001b[0m \u001b[0;34m=\u001b[0m \u001b[0mmodule\u001b[0m\u001b[0;34m(\u001b[0m\u001b[0minput\u001b[0m\u001b[0;34m)\u001b[0m\u001b[0;34m\u001b[0m\u001b[0;34m\u001b[0m\u001b[0m\n\u001b[0m\u001b[1;32m    142\u001b[0m         \u001b[0;32mreturn\u001b[0m \u001b[0minput\u001b[0m\u001b[0;34m\u001b[0m\u001b[0;34m\u001b[0m\u001b[0m\n\u001b[1;32m    143\u001b[0m \u001b[0;34m\u001b[0m\u001b[0m\n",
            "\u001b[0;32m/usr/local/lib/python3.7/dist-packages/torch/nn/modules/module.py\u001b[0m in \u001b[0;36m_call_impl\u001b[0;34m(self, *input, **kwargs)\u001b[0m\n\u001b[1;32m   1100\u001b[0m         if not (self._backward_hooks or self._forward_hooks or self._forward_pre_hooks or _global_backward_hooks\n\u001b[1;32m   1101\u001b[0m                 or _global_forward_hooks or _global_forward_pre_hooks):\n\u001b[0;32m-> 1102\u001b[0;31m             \u001b[0;32mreturn\u001b[0m \u001b[0mforward_call\u001b[0m\u001b[0;34m(\u001b[0m\u001b[0;34m*\u001b[0m\u001b[0minput\u001b[0m\u001b[0;34m,\u001b[0m \u001b[0;34m**\u001b[0m\u001b[0mkwargs\u001b[0m\u001b[0;34m)\u001b[0m\u001b[0;34m\u001b[0m\u001b[0;34m\u001b[0m\u001b[0m\n\u001b[0m\u001b[1;32m   1103\u001b[0m         \u001b[0;31m# Do not call functions when jit is used\u001b[0m\u001b[0;34m\u001b[0m\u001b[0;34m\u001b[0m\u001b[0;34m\u001b[0m\u001b[0m\n\u001b[1;32m   1104\u001b[0m         \u001b[0mfull_backward_hooks\u001b[0m\u001b[0;34m,\u001b[0m \u001b[0mnon_full_backward_hooks\u001b[0m \u001b[0;34m=\u001b[0m \u001b[0;34m[\u001b[0m\u001b[0;34m]\u001b[0m\u001b[0;34m,\u001b[0m \u001b[0;34m[\u001b[0m\u001b[0;34m]\u001b[0m\u001b[0;34m\u001b[0m\u001b[0;34m\u001b[0m\u001b[0m\n",
            "\u001b[0;32m/usr/local/lib/python3.7/dist-packages/torch/nn/modules/conv.py\u001b[0m in \u001b[0;36mforward\u001b[0;34m(self, input, output_size)\u001b[0m\n\u001b[1;32m    923\u001b[0m         return F.conv_transpose2d(\n\u001b[1;32m    924\u001b[0m             \u001b[0minput\u001b[0m\u001b[0;34m,\u001b[0m \u001b[0mself\u001b[0m\u001b[0;34m.\u001b[0m\u001b[0mweight\u001b[0m\u001b[0;34m,\u001b[0m \u001b[0mself\u001b[0m\u001b[0;34m.\u001b[0m\u001b[0mbias\u001b[0m\u001b[0;34m,\u001b[0m \u001b[0mself\u001b[0m\u001b[0;34m.\u001b[0m\u001b[0mstride\u001b[0m\u001b[0;34m,\u001b[0m \u001b[0mself\u001b[0m\u001b[0;34m.\u001b[0m\u001b[0mpadding\u001b[0m\u001b[0;34m,\u001b[0m\u001b[0;34m\u001b[0m\u001b[0;34m\u001b[0m\u001b[0m\n\u001b[0;32m--> 925\u001b[0;31m             output_padding, self.groups, self.dilation)\n\u001b[0m\u001b[1;32m    926\u001b[0m \u001b[0;34m\u001b[0m\u001b[0m\n\u001b[1;32m    927\u001b[0m \u001b[0;34m\u001b[0m\u001b[0m\n",
            "\u001b[0;31mRuntimeError\u001b[0m: Expected 4-dimensional input for 4-dimensional weight [128, 128, 4, 4], but got 2-dimensional input of size [512, 128] instead"
          ]
        }
      ]
    },
    {
      "cell_type": "code",
      "source": [
        ""
      ],
      "metadata": {
        "id": "BRlZpSWD-m7C"
      },
      "execution_count": null,
      "outputs": []
    }
  ]
}