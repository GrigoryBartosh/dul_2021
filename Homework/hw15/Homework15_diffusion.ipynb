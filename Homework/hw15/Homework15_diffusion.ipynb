{
  "cells": [
    {
      "cell_type": "markdown",
      "metadata": {
        "id": "view-in-github",
        "colab_type": "text"
      },
      "source": [
        "<a href=\"https://colab.research.google.com/github/Tikhon239/dul_2021/blob/hw15/Homework/hw15/Homework15_diffusion.ipynb\" target=\"_parent\"><img src=\"https://colab.research.google.com/assets/colab-badge.svg\" alt=\"Open In Colab\"/></a>"
      ]
    },
    {
      "cell_type": "code",
      "execution_count": 73,
      "metadata": {
        "colab": {
          "base_uri": "https://localhost:8080/"
        },
        "id": "6EAvrriX7MVW",
        "outputId": "b1dc34d6-6da3-4e1a-c5b5-8f5c02ea8db4"
      },
      "outputs": [
        {
          "output_type": "stream",
          "name": "stdout",
          "text": [
            "Requirement already satisfied: denoising_diffusion_pytorch in /usr/local/lib/python3.7/dist-packages (0.7.1)\n",
            "Requirement already satisfied: tqdm in /usr/local/lib/python3.7/dist-packages (from denoising_diffusion_pytorch) (4.63.0)\n",
            "Requirement already satisfied: torchvision in /usr/local/lib/python3.7/dist-packages (from denoising_diffusion_pytorch) (0.11.1+cu111)\n",
            "Requirement already satisfied: numpy in /usr/local/lib/python3.7/dist-packages (from denoising_diffusion_pytorch) (1.21.5)\n",
            "Requirement already satisfied: torch in /usr/local/lib/python3.7/dist-packages (from denoising_diffusion_pytorch) (1.10.0+cu111)\n",
            "Requirement already satisfied: pillow in /usr/local/lib/python3.7/dist-packages (from denoising_diffusion_pytorch) (7.1.2)\n",
            "Requirement already satisfied: einops in /usr/local/lib/python3.7/dist-packages (from denoising_diffusion_pytorch) (0.4.1)\n",
            "Requirement already satisfied: typing-extensions in /usr/local/lib/python3.7/dist-packages (from torch->denoising_diffusion_pytorch) (3.10.0.2)\n"
          ]
        }
      ],
      "source": [
        "! pip install denoising_diffusion_pytorch"
      ]
    },
    {
      "cell_type": "markdown",
      "metadata": {
        "id": "pkcTtYFc7MVa"
      },
      "source": [
        "# Imports"
      ]
    },
    {
      "cell_type": "code",
      "execution_count": 74,
      "metadata": {
        "id": "gfyA5rKt7MVb"
      },
      "outputs": [],
      "source": [
        "import copy\n",
        "from math import ceil\n",
        "import numpy as np\n",
        "\n",
        "import torch\n",
        "from torch import nn\n",
        "import torch.distributions as D\n",
        "from torch import autograd\n",
        "import torch.nn.functional as F\n",
        "\n",
        "from torchvision import transforms\n",
        "from torchvision.datasets import MNIST\n",
        "from torch.utils.data import DataLoader\n",
        "from torchvision.utils import make_grid\n",
        "\n",
        "from denoising_diffusion_pytorch import Unet\n",
        "\n",
        "import matplotlib.pyplot as plt\n",
        "from tqdm.auto import tqdm, trange"
      ]
    },
    {
      "cell_type": "code",
      "execution_count": 75,
      "metadata": {
        "colab": {
          "base_uri": "https://localhost:8080/"
        },
        "id": "I4vxMLlW7MVc",
        "outputId": "d7361d7d-cb6f-4d9e-f484-e423a738db4c"
      },
      "outputs": [
        {
          "output_type": "execute_result",
          "data": {
            "text/plain": [
              "<torch._C.Generator at 0x7fae1e23e6d0>"
            ]
          },
          "metadata": {},
          "execution_count": 75
        }
      ],
      "source": [
        "import random\n",
        "\n",
        "random.seed(0)\n",
        "np.random.seed(0)\n",
        "torch.manual_seed(0)"
      ]
    },
    {
      "cell_type": "code",
      "execution_count": 76,
      "metadata": {
        "id": "ov1FZVq37MVd"
      },
      "outputs": [],
      "source": [
        "device = torch.device('cuda' if torch.cuda.is_available() else 'cpu')\n",
        "# device = torch.device('cpu')"
      ]
    },
    {
      "cell_type": "markdown",
      "metadata": {
        "id": "wT0kLM_x7MVd"
      },
      "source": [
        "# Data"
      ]
    },
    {
      "cell_type": "code",
      "execution_count": 77,
      "metadata": {
        "id": "AgyIoNWp7MVe"
      },
      "outputs": [],
      "source": [
        "transform = transforms.Compose([\n",
        "    transforms.ToTensor(),\n",
        "    transforms.Resize((16, 16)),\n",
        "    transforms.Normalize((0.5), (0.5)),\n",
        "])"
      ]
    },
    {
      "cell_type": "code",
      "execution_count": 78,
      "metadata": {
        "id": "8Awtd_Kw7MVe"
      },
      "outputs": [],
      "source": [
        "train_data = MNIST(root='./data/', train=True, download=True, transform=transform)\n",
        "val_data = MNIST(root='./data/', train=False, download=True, transform=transform)"
      ]
    },
    {
      "cell_type": "code",
      "execution_count": 79,
      "metadata": {
        "id": "r7NGKVgh7MVf"
      },
      "outputs": [],
      "source": [
        "BATCH_SIZE = 128"
      ]
    },
    {
      "cell_type": "code",
      "execution_count": 80,
      "metadata": {
        "id": "gEvQe9-R7MVf"
      },
      "outputs": [],
      "source": [
        "train_loader = DataLoader(\n",
        "    train_data,\n",
        "    batch_size=BATCH_SIZE,\n",
        "    shuffle=True,\n",
        "    num_workers=2,\n",
        "    drop_last=True\n",
        ")\n",
        "val_loader = DataLoader(\n",
        "    val_data,\n",
        "    batch_size=BATCH_SIZE,\n",
        "    shuffle=False,\n",
        "    num_workers=2,\n",
        "    drop_last=True\n",
        ")"
      ]
    },
    {
      "cell_type": "markdown",
      "metadata": {
        "id": "aBU_vIJb7MVg"
      },
      "source": [
        "# Utils"
      ]
    },
    {
      "cell_type": "code",
      "execution_count": 81,
      "metadata": {
        "id": "bpbwYmum7MVg"
      },
      "outputs": [],
      "source": [
        "def f_(f, x):\n",
        "    x = x.clone()\n",
        "    \n",
        "    with torch.enable_grad():\n",
        "        if not x.requires_grad:\n",
        "            x.requires_grad = True\n",
        "\n",
        "        y = f(x)\n",
        "        \n",
        "        (grad, ) = autograd.grad(y.sum(), x, create_graph=False)\n",
        "        \n",
        "    return grad"
      ]
    },
    {
      "cell_type": "code",
      "execution_count": 82,
      "metadata": {
        "id": "iMI8nMma7MVg"
      },
      "outputs": [],
      "source": [
        "@torch.no_grad()\n",
        "def solve_sde(x, f, g, ts=0, tf=1, dt=1e-3):\n",
        "    for t in tqdm(np.arange(ts, tf, dt)):\n",
        "        tt = torch.FloatTensor([t]).to(device)\n",
        "        z = torch.randn_like(x).to(device)\n",
        "        x = x + f(x, tt) * dt + g(tt) * z * abs(dt) ** 0.5\n",
        "        \n",
        "    return x"
      ]
    },
    {
      "cell_type": "code",
      "execution_count": 83,
      "metadata": {
        "id": "zS34Bcji7MVh"
      },
      "outputs": [],
      "source": [
        "@torch.no_grad()\n",
        "def show_imgs(x):\n",
        "    x = x.detach().cpu()\n",
        "    \n",
        "    img = make_grid(x, nrow=5)\n",
        "    img = img.permute(1, 2, 0)\n",
        "    img = img * 0.5 + 0.5\n",
        "\n",
        "    plt.imshow(img.numpy())\n",
        "    plt.show()"
      ]
    },
    {
      "cell_type": "markdown",
      "metadata": {
        "id": "_sb0JoLV7MVh"
      },
      "source": [
        "# Question 1. DDPM\n",
        "\n",
        "В этом задание вам предлагается реализовать диффузную модель с непрерывным временем на основе DDPM. Технический код уже написан, нужно лишь восстановить содержательные функции."
      ]
    },
    {
      "cell_type": "code",
      "execution_count": 84,
      "metadata": {
        "id": "JshlPMYe7MVh"
      },
      "outputs": [],
      "source": [
        "class ContDDPM(nn.Module):\n",
        "    def __init__(self):\n",
        "        super().__init__()\n",
        "        \n",
        "        self.eps_th = Unet(\n",
        "            dim=16,\n",
        "            dim_mults=(1, 2, 3),\n",
        "            channels=1\n",
        "        )\n",
        "\n",
        "    @property \n",
        "    def device(self):\n",
        "        return next(self.parameters()).device\n",
        "        \n",
        "    def gamma(self, t):\n",
        "        return torch.log(torch.expm1(1e-4 + 10 * t ** 2))\n",
        "    \n",
        "    # Coefficient \\bar{a}_t\n",
        "    # see presentation, slide 19\n",
        "    def a_bar(self, t):\n",
        "        g = self.gamma(t)\n",
        "        return torch.sigmoid(-g)\n",
        "    \n",
        "    def sigma_2(self, t):\n",
        "        return 1 - self.a_bar(t)\n",
        "    \n",
        "    def log_a_bar_sqrt_(self, t):\n",
        "        return 0.5 * f_(lambda s: torch.log(self.a_bar(s)), t)\n",
        "    \n",
        "    # Coefficient f(x, t)\n",
        "    # see presentation, slide 31\n",
        "    def f(self, x_t, t):\n",
        "        return self.log_a_bar_sqrt_(t) * x_t\n",
        "    \n",
        "    # Coefficient g^2(t)\n",
        "    # see presentation, slide 31\n",
        "    def g_2(self, t):\n",
        "        return f_(self.sigma_2, t) - 2 * self.log_a_bar_sqrt_(t) * self.sigma_2(t)\n",
        "    \n",
        "    # Learned score function\n",
        "    # see presentation, slide 28\n",
        "    def score(self, x_t, t):\n",
        "        \"\"\"\n",
        "        x_t: tensort [bs, 1, 16, 16]\n",
        "        t: tensort [bs]\n",
        "\n",
        "        Returns\n",
        "        - score: tensor  [bs, 1, 16, 16]\n",
        "        \"\"\"\n",
        "        bs = x_t.shape[0]\n",
        "\n",
        "        eps = self.eps_th(x_t, t)\n",
        "        # t: tensort [1] !!!\n",
        "        sigma = self.sigma_2(t).sqrt().reshape(-1, 1, 1, 1)\n",
        "        return -eps / sigma \n",
        "    \n",
        "    def sample_t(self, bs):\n",
        "        t = torch.rand(bs).to(self.device)\n",
        "        return t\n",
        "        \n",
        "    # Transition sampling q(x_t|x_0)\n",
        "    # see presentation, slide 19 and 25\n",
        "    def sample_x_t(self, x_0, t):\n",
        "        \"\"\"\n",
        "        x_0: tensort [bs, 1, 16, 16]\n",
        "        t: tensort [bs]\n",
        "\n",
        "        Returns\n",
        "        - x_t: tensor  [bs, 1, 16, 16]\n",
        "        \"\"\"\n",
        "        bs = x_0.shape[0]\n",
        "\n",
        "        mu = self.a_bar(t).sqrt().reshape(bs, 1, 1, 1) * x_0\n",
        "        sigma = self.sigma_2(t).sqrt().reshape(bs, 1, 1, 1)\n",
        "        eps = torch.rand_like(x_0)\n",
        "\n",
        "        return mu + sigma * eps, eps\n",
        "    \n",
        "    # Loss function\n",
        "    # see presentation, slide 26\n",
        "    def get_loss(self, x_0):\n",
        "        bs = x_0.shape[0]\n",
        "        data_dims = tuple(np.arange(1, len(x_0.shape)))\n",
        "        \n",
        "        t = self.sample_t(bs)\n",
        "        x_t, eps = self.sample_x_t(x_0, t)\n",
        "        \n",
        "        loss = ((eps - self.eps_th(x_t, t)) ** 2).sum(dim=data_dims)\n",
        "        loss = loss.mean()\n",
        "        \n",
        "        return loss\n",
        "        \n",
        "    # Sampling according to reverse SDE\n",
        "    # see presentation, slide 32\n",
        "    # Hint: use solve_sde function\n",
        "    def sample_sde(self, bs):\n",
        "        \"\"\"\n",
        "        bs: int\n",
        "\n",
        "        Returns\n",
        "        - x_0: tensor  [bs, 1, 16, 16] generated data\n",
        "        \"\"\"\n",
        "        x_t = torch.randn((bs, 1, 16, 16), device=self.device)\n",
        "        f = lambda x, t: self.f(x, t) - self.g_2(t) * self.score(x, t)\n",
        "        g = lambda t: self.g_2(t).sqrt()\n",
        "        return solve_sde(x_t, f, g)"
      ]
    },
    {
      "cell_type": "markdown",
      "metadata": {
        "id": "gBSrZpO37MVi"
      },
      "source": [
        "## Training"
      ]
    },
    {
      "cell_type": "code",
      "execution_count": 85,
      "metadata": {
        "id": "pumncGb87MVj"
      },
      "outputs": [],
      "source": [
        "def calc_loss(ddpm, x):\n",
        "    loss = ddpm.get_loss(x)\n",
        "\n",
        "    return loss"
      ]
    },
    {
      "cell_type": "code",
      "execution_count": 86,
      "metadata": {
        "id": "9EbRPEnW7MVj"
      },
      "outputs": [],
      "source": [
        "def train_step(ddpm, x, optim):\n",
        "    loss_total = calc_loss(ddpm, x)\n",
        "    \n",
        "    optim.zero_grad()\n",
        "    loss_total.backward()\n",
        "    optim.step()\n",
        "    \n",
        "    return loss_total.item()"
      ]
    },
    {
      "cell_type": "code",
      "execution_count": 87,
      "metadata": {
        "id": "f-eS9KEA7MVj"
      },
      "outputs": [],
      "source": [
        "def train_epoch(ddpm, data_loader, optim):\n",
        "    ddpm.train()\n",
        "\n",
        "    losses = []\n",
        "    for x, _ in data_loader:\n",
        "        x = x.to(device)\n",
        "\n",
        "        loss_total = train_step(ddpm, x, optim)\n",
        "        \n",
        "        losses += [loss_total]\n",
        "        \n",
        "    loss_mean = np.mean(losses)\n",
        "\n",
        "    return loss_mean"
      ]
    },
    {
      "cell_type": "code",
      "execution_count": 88,
      "metadata": {
        "id": "bt84fxW_7MVk"
      },
      "outputs": [],
      "source": [
        "def val_epoch(ddpm, data_loader):\n",
        "    ddpm.eval()\n",
        "\n",
        "    losses = []\n",
        "    for x, _ in data_loader:\n",
        "        x = x.to(device)\n",
        "\n",
        "        total_loss = calc_loss(ddpm, x).item()\n",
        "        \n",
        "        losses += [total_loss]\n",
        "        \n",
        "    loss_mean = np.mean(losses)    \n",
        "\n",
        "    return loss_mean"
      ]
    },
    {
      "cell_type": "code",
      "execution_count": 89,
      "metadata": {
        "id": "DoTNMFCf7MVk"
      },
      "outputs": [],
      "source": [
        "def train(ddpm, train_loader, val_loader, optim, epochs):\n",
        "    for epoch in trange(epochs):\n",
        "        train_los = train_epoch(ddpm, train_loader, optim)\n",
        "        with torch.no_grad():\n",
        "            val_los = val_epoch(ddpm, val_loader)\n",
        "        print(f\"train: {train_los}    val: {val_los}\")"
      ]
    },
    {
      "cell_type": "markdown",
      "metadata": {
        "id": "dwcybbJ37MVk"
      },
      "source": [
        "## Experiment"
      ]
    },
    {
      "cell_type": "code",
      "source": [
        "ddpm = ContDDPM()\n",
        "ddpm.to(device)\n",
        "\n",
        "optim = torch.optim.Adam(ddpm.parameters(), lr=2e-4)\n",
        "\n",
        "train(ddpm, train_loader, val_loader, optim, epochs=5)"
      ],
      "metadata": {
        "id": "AqtqFVyDJMts",
        "outputId": "dad1ba48-ea12-4d0e-80e2-8dee2d30d25e",
        "colab": {
          "base_uri": "https://localhost:8080/",
          "height": 134,
          "referenced_widgets": [
            "d6aed80659ba4ccf9e990f7669438790",
            "975d2d640d134626a7e2317ef1de4773",
            "690e533419d94c3eb549eadb8a56423f",
            "01969729b33648f1873c1633f158f625",
            "a916427ae9d74ada86b6e61861691f75",
            "abc8489ff94c4c22bcff97491ac39710",
            "ac659a4b28c1443bba7c74da275e7c0d",
            "c3dd5f0460524904a6b1ade23bb08738",
            "81c965c6e86a457eba4e288a1718579e",
            "3c828ac1d8084adfa43646d68b225667",
            "59d66b80057c42cd9f470c4478d25352"
          ]
        }
      },
      "execution_count": 107,
      "outputs": [
        {
          "output_type": "display_data",
          "data": {
            "text/plain": [
              "  0%|          | 0/5 [00:00<?, ?it/s]"
            ],
            "application/vnd.jupyter.widget-view+json": {
              "version_major": 2,
              "version_minor": 0,
              "model_id": "d6aed80659ba4ccf9e990f7669438790"
            }
          },
          "metadata": {}
        },
        {
          "output_type": "stream",
          "name": "stdout",
          "text": [
            "train: 11.563097884002914    val: 4.0293835462668\n",
            "train: 3.4186399889807415    val: 3.092546441616156\n",
            "train: 2.9660095083407865    val: 2.816789217484303\n",
            "train: 2.753275353684385    val: 2.7147220419003415\n",
            "train: 2.6546409731237297    val: 2.638756376046401\n"
          ]
        }
      ]
    },
    {
      "cell_type": "code",
      "source": [
        "x = ddpm.sample_sde(bs=25)\n",
        "show_imgs(x)"
      ],
      "metadata": {
        "id": "NulG7EVgJVMR",
        "outputId": "7748ce45-99d1-4c96-d07c-f02b0ff5949d",
        "colab": {
          "base_uri": "https://localhost:8080/",
          "height": 317,
          "referenced_widgets": [
            "2ca682f88e6e484691cb390dc0e302ef",
            "515170d50f6640d6ab9f6edc0a9e1690",
            "216146d6df1a4c58814cca9871f7431c",
            "9d019318e6514e91b845200e0bbc8227",
            "bc8b9eaf597145d6a71b3d26c566ab15",
            "e011f788dc944c68882e3dfb945c61ca",
            "5501b01a807a4a14bb0e577e25225a6d",
            "80aad539f9ab4940a83375d2ebf92a14",
            "c7e7b20e14234bfdb08856b87026765b",
            "db8b3e0272a645c39e712c797dca4e78",
            "f8535a9a33de4e9abcffb9765cef5996"
          ]
        }
      },
      "execution_count": 108,
      "outputs": [
        {
          "output_type": "display_data",
          "data": {
            "text/plain": [
              "  0%|          | 0/1000 [00:00<?, ?it/s]"
            ],
            "application/vnd.jupyter.widget-view+json": {
              "version_major": 2,
              "version_minor": 0,
              "model_id": "2ca682f88e6e484691cb390dc0e302ef"
            }
          },
          "metadata": {}
        },
        {
          "output_type": "stream",
          "name": "stderr",
          "text": [
            "Clipping input data to the valid range for imshow with RGB data ([0..1] for floats or [0..255] for integers).\n"
          ]
        },
        {
          "output_type": "display_data",
          "data": {
            "text/plain": [
              "<Figure size 432x288 with 1 Axes>"
            ],
            "image/png": "[encoded data removed]"
          },
          "metadata": {
            "needs_background": "light"
          }
        }
      ]
    },
    {
      "cell_type": "code",
      "source": [
        "t = 2 * (x - x.min())/(x.max() - x.min()) - 1\n",
        "show_imgs(t)"
      ],
      "metadata": {
        "id": "aPvx-LwZJRuR",
        "outputId": "1e3a6b0f-7fad-481b-aff0-26f4acd8fd84",
        "colab": {
          "base_uri": "https://localhost:8080/",
          "height": 268
        }
      },
      "execution_count": 109,
      "outputs": [
        {
          "output_type": "display_data",
          "data": {
            "text/plain": [
              "<Figure size 432x288 with 1 Axes>"
            ],
            "image/png": "[encoded data removed]"
          },
          "metadata": {
            "needs_background": "light"
          }
        }
      ]
    },
    {
      "cell_type": "code",
      "execution_count": null,
      "metadata": {
        "scrolled": false,
        "id": "gYa-Tgpg7MVk",
        "colab": {
          "base_uri": "https://localhost:8080/",
          "height": 304,
          "referenced_widgets": [
            "1e866f3c05264b0eb29959d3a5535cb3",
            "cc0819bfec694017b7a6a700fdda33d9",
            "c7f14a48c2114373afaf23d97c80e6e3",
            "5fec9a4db60a4b79a3ac4ff761636a49",
            "13becde4c10949b2a496b4ac1fa73a45",
            "77b01dfb1abb413eb1ead20d3a8e655d",
            "34298c391cb94f328b8b220c49392b78",
            "84daab5741a94b048e16060232e2817c",
            "efbab994374949cdae138533c819f025",
            "4072bce691d649e1bc7d3e750d393acb",
            "94592d3190cd4174ae4f575baba96f48"
          ]
        },
        "outputId": "8483c8a9-0acd-41db-c2d4-88fad608187b"
      },
      "outputs": [
        {
          "output_type": "display_data",
          "data": {
            "text/plain": [
              "  0%|          | 0/15 [00:00<?, ?it/s]"
            ],
            "application/vnd.jupyter.widget-view+json": {
              "version_major": 2,
              "version_minor": 0,
              "model_id": "1e866f3c05264b0eb29959d3a5535cb3"
            }
          },
          "metadata": {}
        },
        {
          "output_type": "stream",
          "name": "stdout",
          "text": [
            "train: 13.786571783897204    val: 4.453253397574792\n",
            "train: 3.6535478555239163    val: 3.168739444170243\n",
            "train: 3.0472080417168446    val: 2.904749240630712\n",
            "train: 2.7687750876459303    val: 2.656183734918252\n",
            "train: 2.617711330580915    val: 2.5390795163619213\n",
            "train: 2.4907804353114886    val: 2.469154338041941\n",
            "train: 2.4154973990387387    val: 2.368770631460043\n",
            "train: 2.3312954120656366    val: 2.254449573846964\n",
            "train: 2.2719307768548656    val: 2.2798336163545265\n",
            "train: 2.2131185758317637    val: 2.129243085017571\n",
            "train: 2.1568858152271337    val: 2.1473170473025394\n",
            "train: 2.1117418041596046    val: 2.058141992642329\n",
            "train: 2.0670863311005454    val: 2.0401498965727978\n",
            "train: 2.05449432389349    val: 2.0464424873009706\n",
            "train: 2.016479411186316    val: 2.0202392920469627\n"
          ]
        }
      ],
      "source": [
        "ddpm = ContDDPM()\n",
        "ddpm.to(device)\n",
        "\n",
        "optim = torch.optim.Adam(ddpm.parameters(), lr=2e-4)\n",
        "\n",
        "train(ddpm, train_loader, val_loader, optim, epochs=15)"
      ]
    },
    {
      "cell_type": "code",
      "execution_count": null,
      "metadata": {
        "scrolled": true,
        "colab": {
          "base_uri": "https://localhost:8080/",
          "height": 317,
          "referenced_widgets": [
            "de7b2b07cc384c0181e1148e221352b9",
            "bbae208ae4584ff59f52c3dd4214914b",
            "bd4284d6f7f64194b9b1f85ed21fceb7",
            "77796b23db6044b68fc3b9a11f8b4e44",
            "728370771d4043ffae90fcb4f23ce3fb",
            "a6a2d2c6ec7344128c06b38a7256480b",
            "64a3605980b24fb2a81b04b56159051c",
            "65583ccef7734671b40ddf1d850a4253",
            "39bb1686278d42208bd3faf090983bab",
            "807252e9ee964740aed004337fb34ae2",
            "56943253465e4f35b240dc4900afad23"
          ]
        },
        "id": "pnv6NK-y7MVl",
        "outputId": "66f8580e-93db-494b-ba2b-10a4f614c988"
      },
      "outputs": [
        {
          "output_type": "display_data",
          "data": {
            "text/plain": [
              "  0%|          | 0/1000 [00:00<?, ?it/s]"
            ],
            "application/vnd.jupyter.widget-view+json": {
              "version_major": 2,
              "version_minor": 0,
              "model_id": "de7b2b07cc384c0181e1148e221352b9"
            }
          },
          "metadata": {}
        },
        {
          "output_type": "stream",
          "name": "stderr",
          "text": [
            "Clipping input data to the valid range for imshow with RGB data ([0..1] for floats or [0..255] for integers).\n"
          ]
        },
        {
          "output_type": "display_data",
          "data": {
            "text/plain": [
              "<Figure size 432x288 with 1 Axes>"
            ],
            "image/png": "[encoded data removed]"
          },
          "metadata": {
            "needs_background": "light"
          }
        }
      ],
      "source": [
        "x = ddpm.sample_sde(bs=25)\n",
        "show_imgs(x)"
      ]
    },
    {
      "cell_type": "markdown",
      "source": [
        "# Bonus. Conditional generation\n",
        "\n",
        "На паре мы обсуждали возможность делать условную генерацию с помощью диффузных моделей (см. презентацию, слайд 35). Бонусное задание - реализовать генерацию с условием на класс. Для этого нужно:\n",
        "\n",
        "*   Обучить безусловную генерацию из первого задания\n",
        "*   Обучить классификатор обусловленный на время\n",
        "*   Собрать все вместе\n",
        "\n"
      ],
      "metadata": {
        "id": "6Ho0s0CQZcQO"
      }
    },
    {
      "cell_type": "code",
      "source": [
        "class Classificator(nn.Module):\n",
        "    def __init__(self, n_classes=10):\n",
        "        super().__init__()\n",
        "        self.conv_block = nn.Sequential(\n",
        "            nn.Conv2d(1, 32, 3, 1, 1),\n",
        "            nn.ReLU(),\n",
        "            nn.Conv2d(32, 64, 3, 2, 1),\n",
        "            nn.ReLU(), \n",
        "            nn.Conv2d(64, 128, 3, 2, 1), \n",
        "            nn.ReLU(), \n",
        "            nn.Conv2d(128, 128, 3, 2, 1), \n",
        "            nn.ReLU()\n",
        "        )\n",
        "\n",
        "        self.linear_block = nn.Linear(2 * 2 * 128 + 1, n_classes)\n",
        "\n",
        "    def forward(self, x, t):\n",
        "        bs = x.shape[0]\n",
        "\n",
        "        if t.shape[0] != bs:\n",
        "            t = t.repeat(bs)\n",
        "\n",
        "        out = self.conv_block(x)\n",
        "        out = torch.flatten(out, start_dim=1)\n",
        "    \n",
        "        return self.linear_block(torch.cat((out, t.unsqueeze(dim=1)), dim=1))"
      ],
      "metadata": {
        "id": "lMN-YGEG0Tna"
      },
      "execution_count": 90,
      "outputs": []
    },
    {
      "cell_type": "code",
      "source": [
        "class CContDDPM(ContDDPM):\n",
        "    def __init__(self):\n",
        "        super().__init__()\n",
        "        self.classificator = Classificator()\n",
        "    \n",
        "    def score(self, x_t, t, labels):\n",
        "        log_p = super().score(x_t, t)\n",
        "\n",
        "        with torch.enable_grad():\n",
        "            if not x_t.requires_grad:\n",
        "                x_t.requires_grad = True\n",
        "        \n",
        "            predicted_labels = self.classificator(x_t, t)\n",
        "            return log_p + autograd.grad(predicted_labels[:, labels].sum(), x_t)[0]\n",
        "\n",
        "    def fit_classificator(self, train_dataloader, epochs=10, lr=1e-3):\n",
        "        classifier_optim = torch.optim.Adam(self.classificator.parameters(), lr=lr)\n",
        "\n",
        "        for epoch in trange(epochs, desc=\"Classificator training\"):\n",
        "            for batch, labels in train_dataloader:\n",
        "                bs = batch.shape[0]\n",
        "\n",
        "                batch = batch.to(device)\n",
        "                labels = labels.to(device)\n",
        "                t = self.sample_t(bs)\n",
        "\n",
        "                with torch.no_grad():\n",
        "                    batch, _ = self.sample_x_t(batch, t)\n",
        "\n",
        "                loss = F.cross_entropy(self.classificator(batch, t), labels)\n",
        "\n",
        "                classifier_optim.zero_grad()\n",
        "                loss.backward()\n",
        "                classifier_optim.step()\n",
        "\n",
        "    def sample_sde(self, bs, labels):\n",
        "        \"\"\"\n",
        "        bs: int\n",
        "\n",
        "        Returns\n",
        "        - x_0: tensor  [bs, 1, 16, 16] generated data\n",
        "        \"\"\" \n",
        "        x_t = torch.randn((bs, 1, 16, 16), device=self.device)\n",
        "        f = lambda x, t: self.f(x, t) - self.g_2(t) * self.score(x, t, labels)\n",
        "        g = lambda t: self.g_2(t).sqrt()\n",
        "        return solve_sde(x_t, f, g)"
      ],
      "metadata": {
        "id": "DP9Zog9EggQl"
      },
      "execution_count": 119,
      "outputs": []
    },
    {
      "cell_type": "code",
      "source": [
        "cddpm = CContDDPM()\n",
        "cddpm.to(device)\n",
        "\n",
        "cddpm.fit_classificator(train_loader)"
      ],
      "metadata": {
        "colab": {
          "base_uri": "https://localhost:8080/",
          "height": 49,
          "referenced_widgets": [
            "83aa496af2894ecaa8296bbfdc497354",
            "1c47f2103bbb47898a66eccabd064c21",
            "a0b22ea4262e46f1936c3234a2fce932",
            "23ecef940e2e4dcf86c4c353c37451b0",
            "126c93c4daa44fbb8499db7bcf5f3957",
            "f62d4ecaee6444bcb18d95444b36a6e1",
            "73d26a65ad3548c59638cfe54b47547c",
            "60cc817b1c684cee8034a89a03ede6c3",
            "5c6192d8a8af4a05841beed68c8e1539",
            "167e1eececb044af85f7e621cf40dd3b",
            "9d7836975abf4a368af5ab717809955c"
          ]
        },
        "id": "ZvojQigUCWBZ",
        "outputId": "3e878859-369d-4b57-df8c-12f94f56bca1"
      },
      "execution_count": 122,
      "outputs": [
        {
          "output_type": "display_data",
          "data": {
            "text/plain": [
              "Classificator training:   0%|          | 0/10 [00:00<?, ?it/s]"
            ],
            "application/vnd.jupyter.widget-view+json": {
              "version_major": 2,
              "version_minor": 0,
              "model_id": "83aa496af2894ecaa8296bbfdc497354"
            }
          },
          "metadata": {}
        }
      ]
    },
    {
      "cell_type": "code",
      "source": [
        "optim = torch.optim.Adam(cddpm.eps_th.parameters(), lr=2e-4)\n",
        "\n",
        "train(cddpm, train_loader, val_loader, optim, epochs=15)"
      ],
      "metadata": {
        "colab": {
          "base_uri": "https://localhost:8080/",
          "height": 49,
          "referenced_widgets": [
            "b58466b2ffc14cff9dc1edf7e8d17262",
            "58bcf4dc29544c46a4fa6347b2ca95fe",
            "d0a77b46655843f0b21380a76a14080a",
            "5a26f269d89e48958f71a8a19b843f56",
            "065e4a8e8aab49a58a2d163d6b85964c",
            "d07a4a9c60bd43dd9c0d63c63ada2e99",
            "102e559cd58a43eba129a9f829431157",
            "74c9945ff0f24a81a9f31ef1366dc997",
            "5c8961aeceda48d6ada44ef29f6d5196",
            "eae9b9546d8f47d5a74724d37e0d21d5",
            "751d364d95aa4ff0b08f4d84f2ea5def"
          ]
        },
        "id": "cOirvLVdCXTT",
        "outputId": "23ad77a7-7552-426a-8cc1-b76befee6f6a"
      },
      "execution_count": null,
      "outputs": [
        {
          "output_type": "display_data",
          "data": {
            "text/plain": [
              "  0%|          | 0/15 [00:00<?, ?it/s]"
            ],
            "application/vnd.jupyter.widget-view+json": {
              "version_major": 2,
              "version_minor": 0,
              "model_id": "b58466b2ffc14cff9dc1edf7e8d17262"
            }
          },
          "metadata": {}
        }
      ]
    },
    {
      "cell_type": "code",
      "source": [
        "bs = 25\n",
        "labels = torch.arange(10, device=device).repeat(ceil(bs / 10))[: bs]\n",
        "labels.sort()\n",
        "x = cddpm.sample_sde(bs, labels)\n",
        "show_imgs(x)"
      ],
      "metadata": {
        "id": "ptlHu8qUGowD"
      },
      "execution_count": null,
      "outputs": []
    },
    {
      "cell_type": "code",
      "source": [
        "t = 2 * (x - x.min())/(x.max() - x.min()) - 1\n",
        "show_imgs(t)"
      ],
      "metadata": {
        "id": "XHnE1u-RGo1A"
      },
      "execution_count": null,
      "outputs": []
    },
    {
      "cell_type": "code",
      "source": [
        ""
      ],
      "metadata": {
        "id": "njBRf-ecGM8v"
      },
      "execution_count": null,
      "outputs": []
    }
  ],
  "metadata": {
    "kernelspec": {
      "display_name": "Python 3",
      "language": "python",
      "name": "python3"
    },
    "language_info": {
      "codemirror_mode": {
        "name": "ipython",
        "version": 3
      },
      "file_extension": ".py",
      "mimetype": "text/x-python",
      "name": "python",
      "nbconvert_exporter": "python",
      "pygments_lexer": "ipython3",
      "version": "3.6.6"
    },
    "colab": {
      "name": "Копия блокнота \"Homework15_diffusion.ipynb\"",
      "provenance": [],
      "collapsed_sections": [],
      "include_colab_link": true
    },
    "accelerator": "GPU",
    "widgets": {
      "application/vnd.jupyter.widget-state+json": {
        "1e866f3c05264b0eb29959d3a5535cb3": {
          "model_module": "@jupyter-widgets/controls",
          "model_name": "HBoxModel",
          "model_module_version": "1.5.0",
          "state": {
            "_dom_classes": [],
            "_model_module": "@jupyter-widgets/controls",
            "_model_module_version": "1.5.0",
            "_model_name": "HBoxModel",
            "_view_count": null,
            "_view_module": "@jupyter-widgets/controls",
            "_view_module_version": "1.5.0",
            "_view_name": "HBoxView",
            "box_style": "",
            "children": [
              "IPY_MODEL_cc0819bfec694017b7a6a700fdda33d9",
              "IPY_MODEL_c7f14a48c2114373afaf23d97c80e6e3",
              "IPY_MODEL_5fec9a4db60a4b79a3ac4ff761636a49"
            ],
            "layout": "IPY_MODEL_13becde4c10949b2a496b4ac1fa73a45"
          }
        },
        "cc0819bfec694017b7a6a700fdda33d9": {
          "model_module": "@jupyter-widgets/controls",
          "model_name": "HTMLModel",
          "model_module_version": "1.5.0",
          "state": {
            "_dom_classes": [],
            "_model_module": "@jupyter-widgets/controls",
            "_model_module_version": "1.5.0",
            "_model_name": "HTMLModel",
            "_view_count": null,
            "_view_module": "@jupyter-widgets/controls",
            "_view_module_version": "1.5.0",
            "_view_name": "HTMLView",
            "description": "",
            "description_tooltip": null,
            "layout": "IPY_MODEL_77b01dfb1abb413eb1ead20d3a8e655d",
            "placeholder": "​",
            "style": "IPY_MODEL_34298c391cb94f328b8b220c49392b78",
            "value": "100%"
          }
        },
        "c7f14a48c2114373afaf23d97c80e6e3": {
          "model_module": "@jupyter-widgets/controls",
          "model_name": "FloatProgressModel",
          "model_module_version": "1.5.0",
          "state": {
            "_dom_classes": [],
            "_model_module": "@jupyter-widgets/controls",
            "_model_module_version": "1.5.0",
            "_model_name": "FloatProgressModel",
            "_view_count": null,
            "_view_module": "@jupyter-widgets/controls",
            "_view_module_version": "1.5.0",
            "_view_name": "ProgressView",
            "bar_style": "success",
            "description": "",
            "description_tooltip": null,
            "layout": "IPY_MODEL_84daab5741a94b048e16060232e2817c",
            "max": 15,
            "min": 0,
            "orientation": "horizontal",
            "style": "IPY_MODEL_efbab994374949cdae138533c819f025",
            "value": 15
          }
        },
        "5fec9a4db60a4b79a3ac4ff761636a49": {
          "model_module": "@jupyter-widgets/controls",
          "model_name": "HTMLModel",
          "model_module_version": "1.5.0",
          "state": {
            "_dom_classes": [],
            "_model_module": "@jupyter-widgets/controls",
            "_model_module_version": "1.5.0",
            "_model_name": "HTMLModel",
            "_view_count": null,
            "_view_module": "@jupyter-widgets/controls",
            "_view_module_version": "1.5.0",
            "_view_name": "HTMLView",
            "description": "",
            "description_tooltip": null,
            "layout": "IPY_MODEL_4072bce691d649e1bc7d3e750d393acb",
            "placeholder": "​",
            "style": "IPY_MODEL_94592d3190cd4174ae4f575baba96f48",
            "value": " 15/15 [28:39&lt;00:00, 115.75s/it]"
          }
        },
        "13becde4c10949b2a496b4ac1fa73a45": {
          "model_module": "@jupyter-widgets/base",
          "model_name": "LayoutModel",
          "model_module_version": "1.2.0",
          "state": {
            "_model_module": "@jupyter-widgets/base",
            "_model_module_version": "1.2.0",
            "_model_name": "LayoutModel",
            "_view_count": null,
            "_view_module": "@jupyter-widgets/base",
            "_view_module_version": "1.2.0",
            "_view_name": "LayoutView",
            "align_content": null,
            "align_items": null,
            "align_self": null,
            "border": null,
            "bottom": null,
            "display": null,
            "flex": null,
            "flex_flow": null,
            "grid_area": null,
            "grid_auto_columns": null,
            "grid_auto_flow": null,
            "grid_auto_rows": null,
            "grid_column": null,
            "grid_gap": null,
            "grid_row": null,
            "grid_template_areas": null,
            "grid_template_columns": null,
            "grid_template_rows": null,
            "height": null,
            "justify_content": null,
            "justify_items": null,
            "left": null,
            "margin": null,
            "max_height": null,
            "max_width": null,
            "min_height": null,
            "min_width": null,
            "object_fit": null,
            "object_position": null,
            "order": null,
            "overflow": null,
            "overflow_x": null,
            "overflow_y": null,
            "padding": null,
            "right": null,
            "top": null,
            "visibility": null,
            "width": null
          }
        },
        "77b01dfb1abb413eb1ead20d3a8e655d": {
          "model_module": "@jupyter-widgets/base",
          "model_name": "LayoutModel",
          "model_module_version": "1.2.0",
          "state": {
            "_model_module": "@jupyter-widgets/base",
            "_model_module_version": "1.2.0",
            "_model_name": "LayoutModel",
            "_view_count": null,
            "_view_module": "@jupyter-widgets/base",
            "_view_module_version": "1.2.0",
            "_view_name": "LayoutView",
            "align_content": null,
            "align_items": null,
            "align_self": null,
            "border": null,
            "bottom": null,
            "display": null,
            "flex": null,
            "flex_flow": null,
            "grid_area": null,
            "grid_auto_columns": null,
            "grid_auto_flow": null,
            "grid_auto_rows": null,
            "grid_column": null,
            "grid_gap": null,
            "grid_row": null,
            "grid_template_areas": null,
            "grid_template_columns": null,
            "grid_template_rows": null,
            "height": null,
            "justify_content": null,
            "justify_items": null,
            "left": null,
            "margin": null,
            "max_height": null,
            "max_width": null,
            "min_height": null,
            "min_width": null,
            "object_fit": null,
            "object_position": null,
            "order": null,
            "overflow": null,
            "overflow_x": null,
            "overflow_y": null,
            "padding": null,
            "right": null,
            "top": null,
            "visibility": null,
            "width": null
          }
        },
        "34298c391cb94f328b8b220c49392b78": {
          "model_module": "@jupyter-widgets/controls",
          "model_name": "DescriptionStyleModel",
          "model_module_version": "1.5.0",
          "state": {
            "_model_module": "@jupyter-widgets/controls",
            "_model_module_version": "1.5.0",
            "_model_name": "DescriptionStyleModel",
            "_view_count": null,
            "_view_module": "@jupyter-widgets/base",
            "_view_module_version": "1.2.0",
            "_view_name": "StyleView",
            "description_width": ""
          }
        },
        "84daab5741a94b048e16060232e2817c": {
          "model_module": "@jupyter-widgets/base",
          "model_name": "LayoutModel",
          "model_module_version": "1.2.0",
          "state": {
            "_model_module": "@jupyter-widgets/base",
            "_model_module_version": "1.2.0",
            "_model_name": "LayoutModel",
            "_view_count": null,
            "_view_module": "@jupyter-widgets/base",
            "_view_module_version": "1.2.0",
            "_view_name": "LayoutView",
            "align_content": null,
            "align_items": null,
            "align_self": null,
            "border": null,
            "bottom": null,
            "display": null,
            "flex": null,
            "flex_flow": null,
            "grid_area": null,
            "grid_auto_columns": null,
            "grid_auto_flow": null,
            "grid_auto_rows": null,
            "grid_column": null,
            "grid_gap": null,
            "grid_row": null,
            "grid_template_areas": null,
            "grid_template_columns": null,
            "grid_template_rows": null,
            "height": null,
            "justify_content": null,
            "justify_items": null,
            "left": null,
            "margin": null,
            "max_height": null,
            "max_width": null,
            "min_height": null,
            "min_width": null,
            "object_fit": null,
            "object_position": null,
            "order": null,
            "overflow": null,
            "overflow_x": null,
            "overflow_y": null,
            "padding": null,
            "right": null,
            "top": null,
            "visibility": null,
            "width": null
          }
        },
        "efbab994374949cdae138533c819f025": {
          "model_module": "@jupyter-widgets/controls",
          "model_name": "ProgressStyleModel",
          "model_module_version": "1.5.0",
          "state": {
            "_model_module": "@jupyter-widgets/controls",
            "_model_module_version": "1.5.0",
            "_model_name": "ProgressStyleModel",
            "_view_count": null,
            "_view_module": "@jupyter-widgets/base",
            "_view_module_version": "1.2.0",
            "_view_name": "StyleView",
            "bar_color": null,
            "description_width": ""
          }
        },
        "4072bce691d649e1bc7d3e750d393acb": {
          "model_module": "@jupyter-widgets/base",
          "model_name": "LayoutModel",
          "model_module_version": "1.2.0",
          "state": {
            "_model_module": "@jupyter-widgets/base",
            "_model_module_version": "1.2.0",
            "_model_name": "LayoutModel",
            "_view_count": null,
            "_view_module": "@jupyter-widgets/base",
            "_view_module_version": "1.2.0",
            "_view_name": "LayoutView",
            "align_content": null,
            "align_items": null,
            "align_self": null,
            "border": null,
            "bottom": null,
            "display": null,
            "flex": null,
            "flex_flow": null,
            "grid_area": null,
            "grid_auto_columns": null,
            "grid_auto_flow": null,
            "grid_auto_rows": null,
            "grid_column": null,
            "grid_gap": null,
            "grid_row": null,
            "grid_template_areas": null,
            "grid_template_columns": null,
            "grid_template_rows": null,
            "height": null,
            "justify_content": null,
            "justify_items": null,
            "left": null,
            "margin": null,
            "max_height": null,
            "max_width": null,
            "min_height": null,
            "min_width": null,
            "object_fit": null,
            "object_position": null,
            "order": null,
            "overflow": null,
            "overflow_x": null,
            "overflow_y": null,
            "padding": null,
            "right": null,
            "top": null,
            "visibility": null,
            "width": null
          }
        },
        "94592d3190cd4174ae4f575baba96f48": {
          "model_module": "@jupyter-widgets/controls",
          "model_name": "DescriptionStyleModel",
          "model_module_version": "1.5.0",
          "state": {
            "_model_module": "@jupyter-widgets/controls",
            "_model_module_version": "1.5.0",
            "_model_name": "DescriptionStyleModel",
            "_view_count": null,
            "_view_module": "@jupyter-widgets/base",
            "_view_module_version": "1.2.0",
            "_view_name": "StyleView",
            "description_width": ""
          }
        },
        "de7b2b07cc384c0181e1148e221352b9": {
          "model_module": "@jupyter-widgets/controls",
          "model_name": "HBoxModel",
          "model_module_version": "1.5.0",
          "state": {
            "_dom_classes": [],
            "_model_module": "@jupyter-widgets/controls",
            "_model_module_version": "1.5.0",
            "_model_name": "HBoxModel",
            "_view_count": null,
            "_view_module": "@jupyter-widgets/controls",
            "_view_module_version": "1.5.0",
            "_view_name": "HBoxView",
            "box_style": "",
            "children": [
              "IPY_MODEL_bbae208ae4584ff59f52c3dd4214914b",
              "IPY_MODEL_bd4284d6f7f64194b9b1f85ed21fceb7",
              "IPY_MODEL_77796b23db6044b68fc3b9a11f8b4e44"
            ],
            "layout": "IPY_MODEL_728370771d4043ffae90fcb4f23ce3fb"
          }
        },
        "bbae208ae4584ff59f52c3dd4214914b": {
          "model_module": "@jupyter-widgets/controls",
          "model_name": "HTMLModel",
          "model_module_version": "1.5.0",
          "state": {
            "_dom_classes": [],
            "_model_module": "@jupyter-widgets/controls",
            "_model_module_version": "1.5.0",
            "_model_name": "HTMLModel",
            "_view_count": null,
            "_view_module": "@jupyter-widgets/controls",
            "_view_module_version": "1.5.0",
            "_view_name": "HTMLView",
            "description": "",
            "description_tooltip": null,
            "layout": "IPY_MODEL_a6a2d2c6ec7344128c06b38a7256480b",
            "placeholder": "​",
            "style": "IPY_MODEL_64a3605980b24fb2a81b04b56159051c",
            "value": "100%"
          }
        },
        "bd4284d6f7f64194b9b1f85ed21fceb7": {
          "model_module": "@jupyter-widgets/controls",
          "model_name": "FloatProgressModel",
          "model_module_version": "1.5.0",
          "state": {
            "_dom_classes": [],
            "_model_module": "@jupyter-widgets/controls",
            "_model_module_version": "1.5.0",
            "_model_name": "FloatProgressModel",
            "_view_count": null,
            "_view_module": "@jupyter-widgets/controls",
            "_view_module_version": "1.5.0",
            "_view_name": "ProgressView",
            "bar_style": "success",
            "description": "",
            "description_tooltip": null,
            "layout": "IPY_MODEL_65583ccef7734671b40ddf1d850a4253",
            "max": 1000,
            "min": 0,
            "orientation": "horizontal",
            "style": "IPY_MODEL_39bb1686278d42208bd3faf090983bab",
            "value": 1000
          }
        },
        "77796b23db6044b68fc3b9a11f8b4e44": {
          "model_module": "@jupyter-widgets/controls",
          "model_name": "HTMLModel",
          "model_module_version": "1.5.0",
          "state": {
            "_dom_classes": [],
            "_model_module": "@jupyter-widgets/controls",
            "_model_module_version": "1.5.0",
            "_model_name": "HTMLModel",
            "_view_count": null,
            "_view_module": "@jupyter-widgets/controls",
            "_view_module_version": "1.5.0",
            "_view_name": "HTMLView",
            "description": "",
            "description_tooltip": null,
            "layout": "IPY_MODEL_807252e9ee964740aed004337fb34ae2",
            "placeholder": "​",
            "style": "IPY_MODEL_56943253465e4f35b240dc4900afad23",
            "value": " 1000/1000 [00:38&lt;00:00, 26.55it/s]"
          }
        },
        "728370771d4043ffae90fcb4f23ce3fb": {
          "model_module": "@jupyter-widgets/base",
          "model_name": "LayoutModel",
          "model_module_version": "1.2.0",
          "state": {
            "_model_module": "@jupyter-widgets/base",
            "_model_module_version": "1.2.0",
            "_model_name": "LayoutModel",
            "_view_count": null,
            "_view_module": "@jupyter-widgets/base",
            "_view_module_version": "1.2.0",
            "_view_name": "LayoutView",
            "align_content": null,
            "align_items": null,
            "align_self": null,
            "border": null,
            "bottom": null,
            "display": null,
            "flex": null,
            "flex_flow": null,
            "grid_area": null,
            "grid_auto_columns": null,
            "grid_auto_flow": null,
            "grid_auto_rows": null,
            "grid_column": null,
            "grid_gap": null,
            "grid_row": null,
            "grid_template_areas": null,
            "grid_template_columns": null,
            "grid_template_rows": null,
            "height": null,
            "justify_content": null,
            "justify_items": null,
            "left": null,
            "margin": null,
            "max_height": null,
            "max_width": null,
            "min_height": null,
            "min_width": null,
            "object_fit": null,
            "object_position": null,
            "order": null,
            "overflow": null,
            "overflow_x": null,
            "overflow_y": null,
            "padding": null,
            "right": null,
            "top": null,
            "visibility": null,
            "width": null
          }
        },
        "a6a2d2c6ec7344128c06b38a7256480b": {
          "model_module": "@jupyter-widgets/base",
          "model_name": "LayoutModel",
          "model_module_version": "1.2.0",
          "state": {
            "_model_module": "@jupyter-widgets/base",
            "_model_module_version": "1.2.0",
            "_model_name": "LayoutModel",
            "_view_count": null,
            "_view_module": "@jupyter-widgets/base",
            "_view_module_version": "1.2.0",
            "_view_name": "LayoutView",
            "align_content": null,
            "align_items": null,
            "align_self": null,
            "border": null,
            "bottom": null,
            "display": null,
            "flex": null,
            "flex_flow": null,
            "grid_area": null,
            "grid_auto_columns": null,
            "grid_auto_flow": null,
            "grid_auto_rows": null,
            "grid_column": null,
            "grid_gap": null,
            "grid_row": null,
            "grid_template_areas": null,
            "grid_template_columns": null,
            "grid_template_rows": null,
            "height": null,
            "justify_content": null,
            "justify_items": null,
            "left": null,
            "margin": null,
            "max_height": null,
            "max_width": null,
            "min_height": null,
            "min_width": null,
            "object_fit": null,
            "object_position": null,
            "order": null,
            "overflow": null,
            "overflow_x": null,
            "overflow_y": null,
            "padding": null,
            "right": null,
            "top": null,
            "visibility": null,
            "width": null
          }
        },
        "64a3605980b24fb2a81b04b56159051c": {
          "model_module": "@jupyter-widgets/controls",
          "model_name": "DescriptionStyleModel",
          "model_module_version": "1.5.0",
          "state": {
            "_model_module": "@jupyter-widgets/controls",
            "_model_module_version": "1.5.0",
            "_model_name": "DescriptionStyleModel",
            "_view_count": null,
            "_view_module": "@jupyter-widgets/base",
            "_view_module_version": "1.2.0",
            "_view_name": "StyleView",
            "description_width": ""
          }
        },
        "65583ccef7734671b40ddf1d850a4253": {
          "model_module": "@jupyter-widgets/base",
          "model_name": "LayoutModel",
          "model_module_version": "1.2.0",
          "state": {
            "_model_module": "@jupyter-widgets/base",
            "_model_module_version": "1.2.0",
            "_model_name": "LayoutModel",
            "_view_count": null,
            "_view_module": "@jupyter-widgets/base",
            "_view_module_version": "1.2.0",
            "_view_name": "LayoutView",
            "align_content": null,
            "align_items": null,
            "align_self": null,
            "border": null,
            "bottom": null,
            "display": null,
            "flex": null,
            "flex_flow": null,
            "grid_area": null,
            "grid_auto_columns": null,
            "grid_auto_flow": null,
            "grid_auto_rows": null,
            "grid_column": null,
            "grid_gap": null,
            "grid_row": null,
            "grid_template_areas": null,
            "grid_template_columns": null,
            "grid_template_rows": null,
            "height": null,
            "justify_content": null,
            "justify_items": null,
            "left": null,
            "margin": null,
            "max_height": null,
            "max_width": null,
            "min_height": null,
            "min_width": null,
            "object_fit": null,
            "object_position": null,
            "order": null,
            "overflow": null,
            "overflow_x": null,
            "overflow_y": null,
            "padding": null,
            "right": null,
            "top": null,
            "visibility": null,
            "width": null
          }
        },
        "39bb1686278d42208bd3faf090983bab": {
          "model_module": "@jupyter-widgets/controls",
          "model_name": "ProgressStyleModel",
          "model_module_version": "1.5.0",
          "state": {
            "_model_module": "@jupyter-widgets/controls",
            "_model_module_version": "1.5.0",
            "_model_name": "ProgressStyleModel",
            "_view_count": null,
            "_view_module": "@jupyter-widgets/base",
            "_view_module_version": "1.2.0",
            "_view_name": "StyleView",
            "bar_color": null,
            "description_width": ""
          }
        },
        "807252e9ee964740aed004337fb34ae2": {
          "model_module": "@jupyter-widgets/base",
          "model_name": "LayoutModel",
          "model_module_version": "1.2.0",
          "state": {
            "_model_module": "@jupyter-widgets/base",
            "_model_module_version": "1.2.0",
            "_model_name": "LayoutModel",
            "_view_count": null,
            "_view_module": "@jupyter-widgets/base",
            "_view_module_version": "1.2.0",
            "_view_name": "LayoutView",
            "align_content": null,
            "align_items": null,
            "align_self": null,
            "border": null,
            "bottom": null,
            "display": null,
            "flex": null,
            "flex_flow": null,
            "grid_area": null,
            "grid_auto_columns": null,
            "grid_auto_flow": null,
            "grid_auto_rows": null,
            "grid_column": null,
            "grid_gap": null,
            "grid_row": null,
            "grid_template_areas": null,
            "grid_template_columns": null,
            "grid_template_rows": null,
            "height": null,
            "justify_content": null,
            "justify_items": null,
            "left": null,
            "margin": null,
            "max_height": null,
            "max_width": null,
            "min_height": null,
            "min_width": null,
            "object_fit": null,
            "object_position": null,
            "order": null,
            "overflow": null,
            "overflow_x": null,
            "overflow_y": null,
            "padding": null,
            "right": null,
            "top": null,
            "visibility": null,
            "width": null
          }
        },
        "56943253465e4f35b240dc4900afad23": {
          "model_module": "@jupyter-widgets/controls",
          "model_name": "DescriptionStyleModel",
          "model_module_version": "1.5.0",
          "state": {
            "_model_module": "@jupyter-widgets/controls",
            "_model_module_version": "1.5.0",
            "_model_name": "DescriptionStyleModel",
            "_view_count": null,
            "_view_module": "@jupyter-widgets/base",
            "_view_module_version": "1.2.0",
            "_view_name": "StyleView",
            "description_width": ""
          }
        },
        "d6aed80659ba4ccf9e990f7669438790": {
          "model_module": "@jupyter-widgets/controls",
          "model_name": "HBoxModel",
          "model_module_version": "1.5.0",
          "state": {
            "_dom_classes": [],
            "_model_module": "@jupyter-widgets/controls",
            "_model_module_version": "1.5.0",
            "_model_name": "HBoxModel",
            "_view_count": null,
            "_view_module": "@jupyter-widgets/controls",
            "_view_module_version": "1.5.0",
            "_view_name": "HBoxView",
            "box_style": "",
            "children": [
              "IPY_MODEL_975d2d640d134626a7e2317ef1de4773",
              "IPY_MODEL_690e533419d94c3eb549eadb8a56423f",
              "IPY_MODEL_01969729b33648f1873c1633f158f625"
            ],
            "layout": "IPY_MODEL_a916427ae9d74ada86b6e61861691f75"
          }
        },
        "975d2d640d134626a7e2317ef1de4773": {
          "model_module": "@jupyter-widgets/controls",
          "model_name": "HTMLModel",
          "model_module_version": "1.5.0",
          "state": {
            "_dom_classes": [],
            "_model_module": "@jupyter-widgets/controls",
            "_model_module_version": "1.5.0",
            "_model_name": "HTMLModel",
            "_view_count": null,
            "_view_module": "@jupyter-widgets/controls",
            "_view_module_version": "1.5.0",
            "_view_name": "HTMLView",
            "description": "",
            "description_tooltip": null,
            "layout": "IPY_MODEL_abc8489ff94c4c22bcff97491ac39710",
            "placeholder": "​",
            "style": "IPY_MODEL_ac659a4b28c1443bba7c74da275e7c0d",
            "value": "100%"
          }
        },
        "690e533419d94c3eb549eadb8a56423f": {
          "model_module": "@jupyter-widgets/controls",
          "model_name": "FloatProgressModel",
          "model_module_version": "1.5.0",
          "state": {
            "_dom_classes": [],
            "_model_module": "@jupyter-widgets/controls",
            "_model_module_version": "1.5.0",
            "_model_name": "FloatProgressModel",
            "_view_count": null,
            "_view_module": "@jupyter-widgets/controls",
            "_view_module_version": "1.5.0",
            "_view_name": "ProgressView",
            "bar_style": "success",
            "description": "",
            "description_tooltip": null,
            "layout": "IPY_MODEL_c3dd5f0460524904a6b1ade23bb08738",
            "max": 5,
            "min": 0,
            "orientation": "horizontal",
            "style": "IPY_MODEL_81c965c6e86a457eba4e288a1718579e",
            "value": 5
          }
        },
        "01969729b33648f1873c1633f158f625": {
          "model_module": "@jupyter-widgets/controls",
          "model_name": "HTMLModel",
          "model_module_version": "1.5.0",
          "state": {
            "_dom_classes": [],
            "_model_module": "@jupyter-widgets/controls",
            "_model_module_version": "1.5.0",
            "_model_name": "HTMLModel",
            "_view_count": null,
            "_view_module": "@jupyter-widgets/controls",
            "_view_module_version": "1.5.0",
            "_view_name": "HTMLView",
            "description": "",
            "description_tooltip": null,
            "layout": "IPY_MODEL_3c828ac1d8084adfa43646d68b225667",
            "placeholder": "​",
            "style": "IPY_MODEL_59d66b80057c42cd9f470c4478d25352",
            "value": " 5/5 [09:39&lt;00:00, 115.62s/it]"
          }
        },
        "a916427ae9d74ada86b6e61861691f75": {
          "model_module": "@jupyter-widgets/base",
          "model_name": "LayoutModel",
          "model_module_version": "1.2.0",
          "state": {
            "_model_module": "@jupyter-widgets/base",
            "_model_module_version": "1.2.0",
            "_model_name": "LayoutModel",
            "_view_count": null,
            "_view_module": "@jupyter-widgets/base",
            "_view_module_version": "1.2.0",
            "_view_name": "LayoutView",
            "align_content": null,
            "align_items": null,
            "align_self": null,
            "border": null,
            "bottom": null,
            "display": null,
            "flex": null,
            "flex_flow": null,
            "grid_area": null,
            "grid_auto_columns": null,
            "grid_auto_flow": null,
            "grid_auto_rows": null,
            "grid_column": null,
            "grid_gap": null,
            "grid_row": null,
            "grid_template_areas": null,
            "grid_template_columns": null,
            "grid_template_rows": null,
            "height": null,
            "justify_content": null,
            "justify_items": null,
            "left": null,
            "margin": null,
            "max_height": null,
            "max_width": null,
            "min_height": null,
            "min_width": null,
            "object_fit": null,
            "object_position": null,
            "order": null,
            "overflow": null,
            "overflow_x": null,
            "overflow_y": null,
            "padding": null,
            "right": null,
            "top": null,
            "visibility": null,
            "width": null
          }
        },
        "abc8489ff94c4c22bcff97491ac39710": {
          "model_module": "@jupyter-widgets/base",
          "model_name": "LayoutModel",
          "model_module_version": "1.2.0",
          "state": {
            "_model_module": "@jupyter-widgets/base",
            "_model_module_version": "1.2.0",
            "_model_name": "LayoutModel",
            "_view_count": null,
            "_view_module": "@jupyter-widgets/base",
            "_view_module_version": "1.2.0",
            "_view_name": "LayoutView",
            "align_content": null,
            "align_items": null,
            "align_self": null,
            "border": null,
            "bottom": null,
            "display": null,
            "flex": null,
            "flex_flow": null,
            "grid_area": null,
            "grid_auto_columns": null,
            "grid_auto_flow": null,
            "grid_auto_rows": null,
            "grid_column": null,
            "grid_gap": null,
            "grid_row": null,
            "grid_template_areas": null,
            "grid_template_columns": null,
            "grid_template_rows": null,
            "height": null,
            "justify_content": null,
            "justify_items": null,
            "left": null,
            "margin": null,
            "max_height": null,
            "max_width": null,
            "min_height": null,
            "min_width": null,
            "object_fit": null,
            "object_position": null,
            "order": null,
            "overflow": null,
            "overflow_x": null,
            "overflow_y": null,
            "padding": null,
            "right": null,
            "top": null,
            "visibility": null,
            "width": null
          }
        },
        "ac659a4b28c1443bba7c74da275e7c0d": {
          "model_module": "@jupyter-widgets/controls",
          "model_name": "DescriptionStyleModel",
          "model_module_version": "1.5.0",
          "state": {
            "_model_module": "@jupyter-widgets/controls",
            "_model_module_version": "1.5.0",
            "_model_name": "DescriptionStyleModel",
            "_view_count": null,
            "_view_module": "@jupyter-widgets/base",
            "_view_module_version": "1.2.0",
            "_view_name": "StyleView",
            "description_width": ""
          }
        },
        "c3dd5f0460524904a6b1ade23bb08738": {
          "model_module": "@jupyter-widgets/base",
          "model_name": "LayoutModel",
          "model_module_version": "1.2.0",
          "state": {
            "_model_module": "@jupyter-widgets/base",
            "_model_module_version": "1.2.0",
            "_model_name": "LayoutModel",
            "_view_count": null,
            "_view_module": "@jupyter-widgets/base",
            "_view_module_version": "1.2.0",
            "_view_name": "LayoutView",
            "align_content": null,
            "align_items": null,
            "align_self": null,
            "border": null,
            "bottom": null,
            "display": null,
            "flex": null,
            "flex_flow": null,
            "grid_area": null,
            "grid_auto_columns": null,
            "grid_auto_flow": null,
            "grid_auto_rows": null,
            "grid_column": null,
            "grid_gap": null,
            "grid_row": null,
            "grid_template_areas": null,
            "grid_template_columns": null,
            "grid_template_rows": null,
            "height": null,
            "justify_content": null,
            "justify_items": null,
            "left": null,
            "margin": null,
            "max_height": null,
            "max_width": null,
            "min_height": null,
            "min_width": null,
            "object_fit": null,
            "object_position": null,
            "order": null,
            "overflow": null,
            "overflow_x": null,
            "overflow_y": null,
            "padding": null,
            "right": null,
            "top": null,
            "visibility": null,
            "width": null
          }
        },
        "81c965c6e86a457eba4e288a1718579e": {
          "model_module": "@jupyter-widgets/controls",
          "model_name": "ProgressStyleModel",
          "model_module_version": "1.5.0",
          "state": {
            "_model_module": "@jupyter-widgets/controls",
            "_model_module_version": "1.5.0",
            "_model_name": "ProgressStyleModel",
            "_view_count": null,
            "_view_module": "@jupyter-widgets/base",
            "_view_module_version": "1.2.0",
            "_view_name": "StyleView",
            "bar_color": null,
            "description_width": ""
          }
        },
        "3c828ac1d8084adfa43646d68b225667": {
          "model_module": "@jupyter-widgets/base",
          "model_name": "LayoutModel",
          "model_module_version": "1.2.0",
          "state": {
            "_model_module": "@jupyter-widgets/base",
            "_model_module_version": "1.2.0",
            "_model_name": "LayoutModel",
            "_view_count": null,
            "_view_module": "@jupyter-widgets/base",
            "_view_module_version": "1.2.0",
            "_view_name": "LayoutView",
            "align_content": null,
            "align_items": null,
            "align_self": null,
            "border": null,
            "bottom": null,
            "display": null,
            "flex": null,
            "flex_flow": null,
            "grid_area": null,
            "grid_auto_columns": null,
            "grid_auto_flow": null,
            "grid_auto_rows": null,
            "grid_column": null,
            "grid_gap": null,
            "grid_row": null,
            "grid_template_areas": null,
            "grid_template_columns": null,
            "grid_template_rows": null,
            "height": null,
            "justify_content": null,
            "justify_items": null,
            "left": null,
            "margin": null,
            "max_height": null,
            "max_width": null,
            "min_height": null,
            "min_width": null,
            "object_fit": null,
            "object_position": null,
            "order": null,
            "overflow": null,
            "overflow_x": null,
            "overflow_y": null,
            "padding": null,
            "right": null,
            "top": null,
            "visibility": null,
            "width": null
          }
        },
        "59d66b80057c42cd9f470c4478d25352": {
          "model_module": "@jupyter-widgets/controls",
          "model_name": "DescriptionStyleModel",
          "model_module_version": "1.5.0",
          "state": {
            "_model_module": "@jupyter-widgets/controls",
            "_model_module_version": "1.5.0",
            "_model_name": "DescriptionStyleModel",
            "_view_count": null,
            "_view_module": "@jupyter-widgets/base",
            "_view_module_version": "1.2.0",
            "_view_name": "StyleView",
            "description_width": ""
          }
        },
        "2ca682f88e6e484691cb390dc0e302ef": {
          "model_module": "@jupyter-widgets/controls",
          "model_name": "HBoxModel",
          "model_module_version": "1.5.0",
          "state": {
            "_dom_classes": [],
            "_model_module": "@jupyter-widgets/controls",
            "_model_module_version": "1.5.0",
            "_model_name": "HBoxModel",
            "_view_count": null,
            "_view_module": "@jupyter-widgets/controls",
            "_view_module_version": "1.5.0",
            "_view_name": "HBoxView",
            "box_style": "",
            "children": [
              "IPY_MODEL_515170d50f6640d6ab9f6edc0a9e1690",
              "IPY_MODEL_216146d6df1a4c58814cca9871f7431c",
              "IPY_MODEL_9d019318e6514e91b845200e0bbc8227"
            ],
            "layout": "IPY_MODEL_bc8b9eaf597145d6a71b3d26c566ab15"
          }
        },
        "515170d50f6640d6ab9f6edc0a9e1690": {
          "model_module": "@jupyter-widgets/controls",
          "model_name": "HTMLModel",
          "model_module_version": "1.5.0",
          "state": {
            "_dom_classes": [],
            "_model_module": "@jupyter-widgets/controls",
            "_model_module_version": "1.5.0",
            "_model_name": "HTMLModel",
            "_view_count": null,
            "_view_module": "@jupyter-widgets/controls",
            "_view_module_version": "1.5.0",
            "_view_name": "HTMLView",
            "description": "",
            "description_tooltip": null,
            "layout": "IPY_MODEL_e011f788dc944c68882e3dfb945c61ca",
            "placeholder": "​",
            "style": "IPY_MODEL_5501b01a807a4a14bb0e577e25225a6d",
            "value": "100%"
          }
        },
        "216146d6df1a4c58814cca9871f7431c": {
          "model_module": "@jupyter-widgets/controls",
          "model_name": "FloatProgressModel",
          "model_module_version": "1.5.0",
          "state": {
            "_dom_classes": [],
            "_model_module": "@jupyter-widgets/controls",
            "_model_module_version": "1.5.0",
            "_model_name": "FloatProgressModel",
            "_view_count": null,
            "_view_module": "@jupyter-widgets/controls",
            "_view_module_version": "1.5.0",
            "_view_name": "ProgressView",
            "bar_style": "success",
            "description": "",
            "description_tooltip": null,
            "layout": "IPY_MODEL_80aad539f9ab4940a83375d2ebf92a14",
            "max": 1000,
            "min": 0,
            "orientation": "horizontal",
            "style": "IPY_MODEL_c7e7b20e14234bfdb08856b87026765b",
            "value": 1000
          }
        },
        "9d019318e6514e91b845200e0bbc8227": {
          "model_module": "@jupyter-widgets/controls",
          "model_name": "HTMLModel",
          "model_module_version": "1.5.0",
          "state": {
            "_dom_classes": [],
            "_model_module": "@jupyter-widgets/controls",
            "_model_module_version": "1.5.0",
            "_model_name": "HTMLModel",
            "_view_count": null,
            "_view_module": "@jupyter-widgets/controls",
            "_view_module_version": "1.5.0",
            "_view_name": "HTMLView",
            "description": "",
            "description_tooltip": null,
            "layout": "IPY_MODEL_db8b3e0272a645c39e712c797dca4e78",
            "placeholder": "​",
            "style": "IPY_MODEL_f8535a9a33de4e9abcffb9765cef5996",
            "value": " 1000/1000 [00:37&lt;00:00, 25.99it/s]"
          }
        },
        "bc8b9eaf597145d6a71b3d26c566ab15": {
          "model_module": "@jupyter-widgets/base",
          "model_name": "LayoutModel",
          "model_module_version": "1.2.0",
          "state": {
            "_model_module": "@jupyter-widgets/base",
            "_model_module_version": "1.2.0",
            "_model_name": "LayoutModel",
            "_view_count": null,
            "_view_module": "@jupyter-widgets/base",
            "_view_module_version": "1.2.0",
            "_view_name": "LayoutView",
            "align_content": null,
            "align_items": null,
            "align_self": null,
            "border": null,
            "bottom": null,
            "display": null,
            "flex": null,
            "flex_flow": null,
            "grid_area": null,
            "grid_auto_columns": null,
            "grid_auto_flow": null,
            "grid_auto_rows": null,
            "grid_column": null,
            "grid_gap": null,
            "grid_row": null,
            "grid_template_areas": null,
            "grid_template_columns": null,
            "grid_template_rows": null,
            "height": null,
            "justify_content": null,
            "justify_items": null,
            "left": null,
            "margin": null,
            "max_height": null,
            "max_width": null,
            "min_height": null,
            "min_width": null,
            "object_fit": null,
            "object_position": null,
            "order": null,
            "overflow": null,
            "overflow_x": null,
            "overflow_y": null,
            "padding": null,
            "right": null,
            "top": null,
            "visibility": null,
            "width": null
          }
        },
        "e011f788dc944c68882e3dfb945c61ca": {
          "model_module": "@jupyter-widgets/base",
          "model_name": "LayoutModel",
          "model_module_version": "1.2.0",
          "state": {
            "_model_module": "@jupyter-widgets/base",
            "_model_module_version": "1.2.0",
            "_model_name": "LayoutModel",
            "_view_count": null,
            "_view_module": "@jupyter-widgets/base",
            "_view_module_version": "1.2.0",
            "_view_name": "LayoutView",
            "align_content": null,
            "align_items": null,
            "align_self": null,
            "border": null,
            "bottom": null,
            "display": null,
            "flex": null,
            "flex_flow": null,
            "grid_area": null,
            "grid_auto_columns": null,
            "grid_auto_flow": null,
            "grid_auto_rows": null,
            "grid_column": null,
            "grid_gap": null,
            "grid_row": null,
            "grid_template_areas": null,
            "grid_template_columns": null,
            "grid_template_rows": null,
            "height": null,
            "justify_content": null,
            "justify_items": null,
            "left": null,
            "margin": null,
            "max_height": null,
            "max_width": null,
            "min_height": null,
            "min_width": null,
            "object_fit": null,
            "object_position": null,
            "order": null,
            "overflow": null,
            "overflow_x": null,
            "overflow_y": null,
            "padding": null,
            "right": null,
            "top": null,
            "visibility": null,
            "width": null
          }
        },
        "5501b01a807a4a14bb0e577e25225a6d": {
          "model_module": "@jupyter-widgets/controls",
          "model_name": "DescriptionStyleModel",
          "model_module_version": "1.5.0",
          "state": {
            "_model_module": "@jupyter-widgets/controls",
            "_model_module_version": "1.5.0",
            "_model_name": "DescriptionStyleModel",
            "_view_count": null,
            "_view_module": "@jupyter-widgets/base",
            "_view_module_version": "1.2.0",
            "_view_name": "StyleView",
            "description_width": ""
          }
        },
        "80aad539f9ab4940a83375d2ebf92a14": {
          "model_module": "@jupyter-widgets/base",
          "model_name": "LayoutModel",
          "model_module_version": "1.2.0",
          "state": {
            "_model_module": "@jupyter-widgets/base",
            "_model_module_version": "1.2.0",
            "_model_name": "LayoutModel",
            "_view_count": null,
            "_view_module": "@jupyter-widgets/base",
            "_view_module_version": "1.2.0",
            "_view_name": "LayoutView",
            "align_content": null,
            "align_items": null,
            "align_self": null,
            "border": null,
            "bottom": null,
            "display": null,
            "flex": null,
            "flex_flow": null,
            "grid_area": null,
            "grid_auto_columns": null,
            "grid_auto_flow": null,
            "grid_auto_rows": null,
            "grid_column": null,
            "grid_gap": null,
            "grid_row": null,
            "grid_template_areas": null,
            "grid_template_columns": null,
            "grid_template_rows": null,
            "height": null,
            "justify_content": null,
            "justify_items": null,
            "left": null,
            "margin": null,
            "max_height": null,
            "max_width": null,
            "min_height": null,
            "min_width": null,
            "object_fit": null,
            "object_position": null,
            "order": null,
            "overflow": null,
            "overflow_x": null,
            "overflow_y": null,
            "padding": null,
            "right": null,
            "top": null,
            "visibility": null,
            "width": null
          }
        },
        "c7e7b20e14234bfdb08856b87026765b": {
          "model_module": "@jupyter-widgets/controls",
          "model_name": "ProgressStyleModel",
          "model_module_version": "1.5.0",
          "state": {
            "_model_module": "@jupyter-widgets/controls",
            "_model_module_version": "1.5.0",
            "_model_name": "ProgressStyleModel",
            "_view_count": null,
            "_view_module": "@jupyter-widgets/base",
            "_view_module_version": "1.2.0",
            "_view_name": "StyleView",
            "bar_color": null,
            "description_width": ""
          }
        },
        "db8b3e0272a645c39e712c797dca4e78": {
          "model_module": "@jupyter-widgets/base",
          "model_name": "LayoutModel",
          "model_module_version": "1.2.0",
          "state": {
            "_model_module": "@jupyter-widgets/base",
            "_model_module_version": "1.2.0",
            "_model_name": "LayoutModel",
            "_view_count": null,
            "_view_module": "@jupyter-widgets/base",
            "_view_module_version": "1.2.0",
            "_view_name": "LayoutView",
            "align_content": null,
            "align_items": null,
            "align_self": null,
            "border": null,
            "bottom": null,
            "display": null,
            "flex": null,
            "flex_flow": null,
            "grid_area": null,
            "grid_auto_columns": null,
            "grid_auto_flow": null,
            "grid_auto_rows": null,
            "grid_column": null,
            "grid_gap": null,
            "grid_row": null,
            "grid_template_areas": null,
            "grid_template_columns": null,
            "grid_template_rows": null,
            "height": null,
            "justify_content": null,
            "justify_items": null,
            "left": null,
            "margin": null,
            "max_height": null,
            "max_width": null,
            "min_height": null,
            "min_width": null,
            "object_fit": null,
            "object_position": null,
            "order": null,
            "overflow": null,
            "overflow_x": null,
            "overflow_y": null,
            "padding": null,
            "right": null,
            "top": null,
            "visibility": null,
            "width": null
          }
        },
        "f8535a9a33de4e9abcffb9765cef5996": {
          "model_module": "@jupyter-widgets/controls",
          "model_name": "DescriptionStyleModel",
          "model_module_version": "1.5.0",
          "state": {
            "_model_module": "@jupyter-widgets/controls",
            "_model_module_version": "1.5.0",
            "_model_name": "DescriptionStyleModel",
            "_view_count": null,
            "_view_module": "@jupyter-widgets/base",
            "_view_module_version": "1.2.0",
            "_view_name": "StyleView",
            "description_width": ""
          }
        },
        "83aa496af2894ecaa8296bbfdc497354": {
          "model_module": "@jupyter-widgets/controls",
          "model_name": "HBoxModel",
          "model_module_version": "1.5.0",
          "state": {
            "_dom_classes": [],
            "_model_module": "@jupyter-widgets/controls",
            "_model_module_version": "1.5.0",
            "_model_name": "HBoxModel",
            "_view_count": null,
            "_view_module": "@jupyter-widgets/controls",
            "_view_module_version": "1.5.0",
            "_view_name": "HBoxView",
            "box_style": "",
            "children": [
              "IPY_MODEL_1c47f2103bbb47898a66eccabd064c21",
              "IPY_MODEL_a0b22ea4262e46f1936c3234a2fce932",
              "IPY_MODEL_23ecef940e2e4dcf86c4c353c37451b0"
            ],
            "layout": "IPY_MODEL_126c93c4daa44fbb8499db7bcf5f3957"
          }
        },
        "1c47f2103bbb47898a66eccabd064c21": {
          "model_module": "@jupyter-widgets/controls",
          "model_name": "HTMLModel",
          "model_module_version": "1.5.0",
          "state": {
            "_dom_classes": [],
            "_model_module": "@jupyter-widgets/controls",
            "_model_module_version": "1.5.0",
            "_model_name": "HTMLModel",
            "_view_count": null,
            "_view_module": "@jupyter-widgets/controls",
            "_view_module_version": "1.5.0",
            "_view_name": "HTMLView",
            "description": "",
            "description_tooltip": null,
            "layout": "IPY_MODEL_f62d4ecaee6444bcb18d95444b36a6e1",
            "placeholder": "​",
            "style": "IPY_MODEL_73d26a65ad3548c59638cfe54b47547c",
            "value": "Classificator training: 100%"
          }
        },
        "a0b22ea4262e46f1936c3234a2fce932": {
          "model_module": "@jupyter-widgets/controls",
          "model_name": "FloatProgressModel",
          "model_module_version": "1.5.0",
          "state": {
            "_dom_classes": [],
            "_model_module": "@jupyter-widgets/controls",
            "_model_module_version": "1.5.0",
            "_model_name": "FloatProgressModel",
            "_view_count": null,
            "_view_module": "@jupyter-widgets/controls",
            "_view_module_version": "1.5.0",
            "_view_name": "ProgressView",
            "bar_style": "success",
            "description": "",
            "description_tooltip": null,
            "layout": "IPY_MODEL_60cc817b1c684cee8034a89a03ede6c3",
            "max": 10,
            "min": 0,
            "orientation": "horizontal",
            "style": "IPY_MODEL_5c6192d8a8af4a05841beed68c8e1539",
            "value": 10
          }
        },
        "23ecef940e2e4dcf86c4c353c37451b0": {
          "model_module": "@jupyter-widgets/controls",
          "model_name": "HTMLModel",
          "model_module_version": "1.5.0",
          "state": {
            "_dom_classes": [],
            "_model_module": "@jupyter-widgets/controls",
            "_model_module_version": "1.5.0",
            "_model_name": "HTMLModel",
            "_view_count": null,
            "_view_module": "@jupyter-widgets/controls",
            "_view_module_version": "1.5.0",
            "_view_name": "HTMLView",
            "description": "",
            "description_tooltip": null,
            "layout": "IPY_MODEL_167e1eececb044af85f7e621cf40dd3b",
            "placeholder": "​",
            "style": "IPY_MODEL_9d7836975abf4a368af5ab717809955c",
            "value": " 10/10 [02:40&lt;00:00, 15.81s/it]"
          }
        },
        "126c93c4daa44fbb8499db7bcf5f3957": {
          "model_module": "@jupyter-widgets/base",
          "model_name": "LayoutModel",
          "model_module_version": "1.2.0",
          "state": {
            "_model_module": "@jupyter-widgets/base",
            "_model_module_version": "1.2.0",
            "_model_name": "LayoutModel",
            "_view_count": null,
            "_view_module": "@jupyter-widgets/base",
            "_view_module_version": "1.2.0",
            "_view_name": "LayoutView",
            "align_content": null,
            "align_items": null,
            "align_self": null,
            "border": null,
            "bottom": null,
            "display": null,
            "flex": null,
            "flex_flow": null,
            "grid_area": null,
            "grid_auto_columns": null,
            "grid_auto_flow": null,
            "grid_auto_rows": null,
            "grid_column": null,
            "grid_gap": null,
            "grid_row": null,
            "grid_template_areas": null,
            "grid_template_columns": null,
            "grid_template_rows": null,
            "height": null,
            "justify_content": null,
            "justify_items": null,
            "left": null,
            "margin": null,
            "max_height": null,
            "max_width": null,
            "min_height": null,
            "min_width": null,
            "object_fit": null,
            "object_position": null,
            "order": null,
            "overflow": null,
            "overflow_x": null,
            "overflow_y": null,
            "padding": null,
            "right": null,
            "top": null,
            "visibility": null,
            "width": null
          }
        },
        "f62d4ecaee6444bcb18d95444b36a6e1": {
          "model_module": "@jupyter-widgets/base",
          "model_name": "LayoutModel",
          "model_module_version": "1.2.0",
          "state": {
            "_model_module": "@jupyter-widgets/base",
            "_model_module_version": "1.2.0",
            "_model_name": "LayoutModel",
            "_view_count": null,
            "_view_module": "@jupyter-widgets/base",
            "_view_module_version": "1.2.0",
            "_view_name": "LayoutView",
            "align_content": null,
            "align_items": null,
            "align_self": null,
            "border": null,
            "bottom": null,
            "display": null,
            "flex": null,
            "flex_flow": null,
            "grid_area": null,
            "grid_auto_columns": null,
            "grid_auto_flow": null,
            "grid_auto_rows": null,
            "grid_column": null,
            "grid_gap": null,
            "grid_row": null,
            "grid_template_areas": null,
            "grid_template_columns": null,
            "grid_template_rows": null,
            "height": null,
            "justify_content": null,
            "justify_items": null,
            "left": null,
            "margin": null,
            "max_height": null,
            "max_width": null,
            "min_height": null,
            "min_width": null,
            "object_fit": null,
            "object_position": null,
            "order": null,
            "overflow": null,
            "overflow_x": null,
            "overflow_y": null,
            "padding": null,
            "right": null,
            "top": null,
            "visibility": null,
            "width": null
          }
        },
        "73d26a65ad3548c59638cfe54b47547c": {
          "model_module": "@jupyter-widgets/controls",
          "model_name": "DescriptionStyleModel",
          "model_module_version": "1.5.0",
          "state": {
            "_model_module": "@jupyter-widgets/controls",
            "_model_module_version": "1.5.0",
            "_model_name": "DescriptionStyleModel",
            "_view_count": null,
            "_view_module": "@jupyter-widgets/base",
            "_view_module_version": "1.2.0",
            "_view_name": "StyleView",
            "description_width": ""
          }
        },
        "60cc817b1c684cee8034a89a03ede6c3": {
          "model_module": "@jupyter-widgets/base",
          "model_name": "LayoutModel",
          "model_module_version": "1.2.0",
          "state": {
            "_model_module": "@jupyter-widgets/base",
            "_model_module_version": "1.2.0",
            "_model_name": "LayoutModel",
            "_view_count": null,
            "_view_module": "@jupyter-widgets/base",
            "_view_module_version": "1.2.0",
            "_view_name": "LayoutView",
            "align_content": null,
            "align_items": null,
            "align_self": null,
            "border": null,
            "bottom": null,
            "display": null,
            "flex": null,
            "flex_flow": null,
            "grid_area": null,
            "grid_auto_columns": null,
            "grid_auto_flow": null,
            "grid_auto_rows": null,
            "grid_column": null,
            "grid_gap": null,
            "grid_row": null,
            "grid_template_areas": null,
            "grid_template_columns": null,
            "grid_template_rows": null,
            "height": null,
            "justify_content": null,
            "justify_items": null,
            "left": null,
            "margin": null,
            "max_height": null,
            "max_width": null,
            "min_height": null,
            "min_width": null,
            "object_fit": null,
            "object_position": null,
            "order": null,
            "overflow": null,
            "overflow_x": null,
            "overflow_y": null,
            "padding": null,
            "right": null,
            "top": null,
            "visibility": null,
            "width": null
          }
        },
        "5c6192d8a8af4a05841beed68c8e1539": {
          "model_module": "@jupyter-widgets/controls",
          "model_name": "ProgressStyleModel",
          "model_module_version": "1.5.0",
          "state": {
            "_model_module": "@jupyter-widgets/controls",
            "_model_module_version": "1.5.0",
            "_model_name": "ProgressStyleModel",
            "_view_count": null,
            "_view_module": "@jupyter-widgets/base",
            "_view_module_version": "1.2.0",
            "_view_name": "StyleView",
            "bar_color": null,
            "description_width": ""
          }
        },
        "167e1eececb044af85f7e621cf40dd3b": {
          "model_module": "@jupyter-widgets/base",
          "model_name": "LayoutModel",
          "model_module_version": "1.2.0",
          "state": {
            "_model_module": "@jupyter-widgets/base",
            "_model_module_version": "1.2.0",
            "_model_name": "LayoutModel",
            "_view_count": null,
            "_view_module": "@jupyter-widgets/base",
            "_view_module_version": "1.2.0",
            "_view_name": "LayoutView",
            "align_content": null,
            "align_items": null,
            "align_self": null,
            "border": null,
            "bottom": null,
            "display": null,
            "flex": null,
            "flex_flow": null,
            "grid_area": null,
            "grid_auto_columns": null,
            "grid_auto_flow": null,
            "grid_auto_rows": null,
            "grid_column": null,
            "grid_gap": null,
            "grid_row": null,
            "grid_template_areas": null,
            "grid_template_columns": null,
            "grid_template_rows": null,
            "height": null,
            "justify_content": null,
            "justify_items": null,
            "left": null,
            "margin": null,
            "max_height": null,
            "max_width": null,
            "min_height": null,
            "min_width": null,
            "object_fit": null,
            "object_position": null,
            "order": null,
            "overflow": null,
            "overflow_x": null,
            "overflow_y": null,
            "padding": null,
            "right": null,
            "top": null,
            "visibility": null,
            "width": null
          }
        },
        "9d7836975abf4a368af5ab717809955c": {
          "model_module": "@jupyter-widgets/controls",
          "model_name": "DescriptionStyleModel",
          "model_module_version": "1.5.0",
          "state": {
            "_model_module": "@jupyter-widgets/controls",
            "_model_module_version": "1.5.0",
            "_model_name": "DescriptionStyleModel",
            "_view_count": null,
            "_view_module": "@jupyter-widgets/base",
            "_view_module_version": "1.2.0",
            "_view_name": "StyleView",
            "description_width": ""
          }
        },
        "b58466b2ffc14cff9dc1edf7e8d17262": {
          "model_module": "@jupyter-widgets/controls",
          "model_name": "HBoxModel",
          "model_module_version": "1.5.0",
          "state": {
            "_dom_classes": [],
            "_model_module": "@jupyter-widgets/controls",
            "_model_module_version": "1.5.0",
            "_model_name": "HBoxModel",
            "_view_count": null,
            "_view_module": "@jupyter-widgets/controls",
            "_view_module_version": "1.5.0",
            "_view_name": "HBoxView",
            "box_style": "",
            "children": [
              "IPY_MODEL_58bcf4dc29544c46a4fa6347b2ca95fe",
              "IPY_MODEL_d0a77b46655843f0b21380a76a14080a",
              "IPY_MODEL_5a26f269d89e48958f71a8a19b843f56"
            ],
            "layout": "IPY_MODEL_065e4a8e8aab49a58a2d163d6b85964c"
          }
        },
        "58bcf4dc29544c46a4fa6347b2ca95fe": {
          "model_module": "@jupyter-widgets/controls",
          "model_name": "HTMLModel",
          "model_module_version": "1.5.0",
          "state": {
            "_dom_classes": [],
            "_model_module": "@jupyter-widgets/controls",
            "_model_module_version": "1.5.0",
            "_model_name": "HTMLModel",
            "_view_count": null,
            "_view_module": "@jupyter-widgets/controls",
            "_view_module_version": "1.5.0",
            "_view_name": "HTMLView",
            "description": "",
            "description_tooltip": null,
            "layout": "IPY_MODEL_d07a4a9c60bd43dd9c0d63c63ada2e99",
            "placeholder": "​",
            "style": "IPY_MODEL_102e559cd58a43eba129a9f829431157",
            "value": "  0%"
          }
        },
        "d0a77b46655843f0b21380a76a14080a": {
          "model_module": "@jupyter-widgets/controls",
          "model_name": "FloatProgressModel",
          "model_module_version": "1.5.0",
          "state": {
            "_dom_classes": [],
            "_model_module": "@jupyter-widgets/controls",
            "_model_module_version": "1.5.0",
            "_model_name": "FloatProgressModel",
            "_view_count": null,
            "_view_module": "@jupyter-widgets/controls",
            "_view_module_version": "1.5.0",
            "_view_name": "ProgressView",
            "bar_style": "",
            "description": "",
            "description_tooltip": null,
            "layout": "IPY_MODEL_74c9945ff0f24a81a9f31ef1366dc997",
            "max": 15,
            "min": 0,
            "orientation": "horizontal",
            "style": "IPY_MODEL_5c8961aeceda48d6ada44ef29f6d5196",
            "value": 0
          }
        },
        "5a26f269d89e48958f71a8a19b843f56": {
          "model_module": "@jupyter-widgets/controls",
          "model_name": "HTMLModel",
          "model_module_version": "1.5.0",
          "state": {
            "_dom_classes": [],
            "_model_module": "@jupyter-widgets/controls",
            "_model_module_version": "1.5.0",
            "_model_name": "HTMLModel",
            "_view_count": null,
            "_view_module": "@jupyter-widgets/controls",
            "_view_module_version": "1.5.0",
            "_view_name": "HTMLView",
            "description": "",
            "description_tooltip": null,
            "layout": "IPY_MODEL_eae9b9546d8f47d5a74724d37e0d21d5",
            "placeholder": "​",
            "style": "IPY_MODEL_751d364d95aa4ff0b08f4d84f2ea5def",
            "value": " 0/15 [00:00&lt;?, ?it/s]"
          }
        },
        "065e4a8e8aab49a58a2d163d6b85964c": {
          "model_module": "@jupyter-widgets/base",
          "model_name": "LayoutModel",
          "model_module_version": "1.2.0",
          "state": {
            "_model_module": "@jupyter-widgets/base",
            "_model_module_version": "1.2.0",
            "_model_name": "LayoutModel",
            "_view_count": null,
            "_view_module": "@jupyter-widgets/base",
            "_view_module_version": "1.2.0",
            "_view_name": "LayoutView",
            "align_content": null,
            "align_items": null,
            "align_self": null,
            "border": null,
            "bottom": null,
            "display": null,
            "flex": null,
            "flex_flow": null,
            "grid_area": null,
            "grid_auto_columns": null,
            "grid_auto_flow": null,
            "grid_auto_rows": null,
            "grid_column": null,
            "grid_gap": null,
            "grid_row": null,
            "grid_template_areas": null,
            "grid_template_columns": null,
            "grid_template_rows": null,
            "height": null,
            "justify_content": null,
            "justify_items": null,
            "left": null,
            "margin": null,
            "max_height": null,
            "max_width": null,
            "min_height": null,
            "min_width": null,
            "object_fit": null,
            "object_position": null,
            "order": null,
            "overflow": null,
            "overflow_x": null,
            "overflow_y": null,
            "padding": null,
            "right": null,
            "top": null,
            "visibility": null,
            "width": null
          }
        },
        "d07a4a9c60bd43dd9c0d63c63ada2e99": {
          "model_module": "@jupyter-widgets/base",
          "model_name": "LayoutModel",
          "model_module_version": "1.2.0",
          "state": {
            "_model_module": "@jupyter-widgets/base",
            "_model_module_version": "1.2.0",
            "_model_name": "LayoutModel",
            "_view_count": null,
            "_view_module": "@jupyter-widgets/base",
            "_view_module_version": "1.2.0",
            "_view_name": "LayoutView",
            "align_content": null,
            "align_items": null,
            "align_self": null,
            "border": null,
            "bottom": null,
            "display": null,
            "flex": null,
            "flex_flow": null,
            "grid_area": null,
            "grid_auto_columns": null,
            "grid_auto_flow": null,
            "grid_auto_rows": null,
            "grid_column": null,
            "grid_gap": null,
            "grid_row": null,
            "grid_template_areas": null,
            "grid_template_columns": null,
            "grid_template_rows": null,
            "height": null,
            "justify_content": null,
            "justify_items": null,
            "left": null,
            "margin": null,
            "max_height": null,
            "max_width": null,
            "min_height": null,
            "min_width": null,
            "object_fit": null,
            "object_position": null,
            "order": null,
            "overflow": null,
            "overflow_x": null,
            "overflow_y": null,
            "padding": null,
            "right": null,
            "top": null,
            "visibility": null,
            "width": null
          }
        },
        "102e559cd58a43eba129a9f829431157": {
          "model_module": "@jupyter-widgets/controls",
          "model_name": "DescriptionStyleModel",
          "model_module_version": "1.5.0",
          "state": {
            "_model_module": "@jupyter-widgets/controls",
            "_model_module_version": "1.5.0",
            "_model_name": "DescriptionStyleModel",
            "_view_count": null,
            "_view_module": "@jupyter-widgets/base",
            "_view_module_version": "1.2.0",
            "_view_name": "StyleView",
            "description_width": ""
          }
        },
        "74c9945ff0f24a81a9f31ef1366dc997": {
          "model_module": "@jupyter-widgets/base",
          "model_name": "LayoutModel",
          "model_module_version": "1.2.0",
          "state": {
            "_model_module": "@jupyter-widgets/base",
            "_model_module_version": "1.2.0",
            "_model_name": "LayoutModel",
            "_view_count": null,
            "_view_module": "@jupyter-widgets/base",
            "_view_module_version": "1.2.0",
            "_view_name": "LayoutView",
            "align_content": null,
            "align_items": null,
            "align_self": null,
            "border": null,
            "bottom": null,
            "display": null,
            "flex": null,
            "flex_flow": null,
            "grid_area": null,
            "grid_auto_columns": null,
            "grid_auto_flow": null,
            "grid_auto_rows": null,
            "grid_column": null,
            "grid_gap": null,
            "grid_row": null,
            "grid_template_areas": null,
            "grid_template_columns": null,
            "grid_template_rows": null,
            "height": null,
            "justify_content": null,
            "justify_items": null,
            "left": null,
            "margin": null,
            "max_height": null,
            "max_width": null,
            "min_height": null,
            "min_width": null,
            "object_fit": null,
            "object_position": null,
            "order": null,
            "overflow": null,
            "overflow_x": null,
            "overflow_y": null,
            "padding": null,
            "right": null,
            "top": null,
            "visibility": null,
            "width": null
          }
        },
        "5c8961aeceda48d6ada44ef29f6d5196": {
          "model_module": "@jupyter-widgets/controls",
          "model_name": "ProgressStyleModel",
          "model_module_version": "1.5.0",
          "state": {
            "_model_module": "@jupyter-widgets/controls",
            "_model_module_version": "1.5.0",
            "_model_name": "ProgressStyleModel",
            "_view_count": null,
            "_view_module": "@jupyter-widgets/base",
            "_view_module_version": "1.2.0",
            "_view_name": "StyleView",
            "bar_color": null,
            "description_width": ""
          }
        },
        "eae9b9546d8f47d5a74724d37e0d21d5": {
          "model_module": "@jupyter-widgets/base",
          "model_name": "LayoutModel",
          "model_module_version": "1.2.0",
          "state": {
            "_model_module": "@jupyter-widgets/base",
            "_model_module_version": "1.2.0",
            "_model_name": "LayoutModel",
            "_view_count": null,
            "_view_module": "@jupyter-widgets/base",
            "_view_module_version": "1.2.0",
            "_view_name": "LayoutView",
            "align_content": null,
            "align_items": null,
            "align_self": null,
            "border": null,
            "bottom": null,
            "display": null,
            "flex": null,
            "flex_flow": null,
            "grid_area": null,
            "grid_auto_columns": null,
            "grid_auto_flow": null,
            "grid_auto_rows": null,
            "grid_column": null,
            "grid_gap": null,
            "grid_row": null,
            "grid_template_areas": null,
            "grid_template_columns": null,
            "grid_template_rows": null,
            "height": null,
            "justify_content": null,
            "justify_items": null,
            "left": null,
            "margin": null,
            "max_height": null,
            "max_width": null,
            "min_height": null,
            "min_width": null,
            "object_fit": null,
            "object_position": null,
            "order": null,
            "overflow": null,
            "overflow_x": null,
            "overflow_y": null,
            "padding": null,
            "right": null,
            "top": null,
            "visibility": null,
            "width": null
          }
        },
        "751d364d95aa4ff0b08f4d84f2ea5def": {
          "model_module": "@jupyter-widgets/controls",
          "model_name": "DescriptionStyleModel",
          "model_module_version": "1.5.0",
          "state": {
            "_model_module": "@jupyter-widgets/controls",
            "_model_module_version": "1.5.0",
            "_model_name": "DescriptionStyleModel",
            "_view_count": null,
            "_view_module": "@jupyter-widgets/base",
            "_view_module_version": "1.2.0",
            "_view_name": "StyleView",
            "description_width": ""
          }
        }
      }
    }
  },
  "nbformat": 4,
  "nbformat_minor": 0
}